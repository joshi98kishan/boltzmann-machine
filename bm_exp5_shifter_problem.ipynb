{
 "cells": [
  {
   "cell_type": "code",
   "execution_count": 1,
   "id": "1982b849",
   "metadata": {},
   "outputs": [],
   "source": [
    "import pickle\n",
    "import numpy as np\n",
    "from tqdm import tqdm\n",
    "from boltzmann_machine import BoltzmannMachine\n",
    "\n",
    "\n",
    "import matplotlib.pyplot as plt\n",
    "from matplotlib.backends.backend_pdf import PdfPages\n",
    "from utils import get_shifterProb_envStates, get_shiftprob_weight_mask\n",
    "import plotly.express as px\n",
    "\n",
    "def eval_shifter_net(bm, env_states, time = 100, gentle_sched = False):\n",
    "    bm_test = BoltzmannMachine(env_states, \n",
    "                            bm.num_hnodes, \n",
    "                            init_W=bm.W,\n",
    "                            # init_W=bm.learning_debug[250]['W'],\n",
    "                            run_loop_count=1\n",
    "                            )\n",
    "    if gentle_sched:\n",
    "        bm_test.sa_sched = [(4, 20), (4, 15), (4, 12), (8, 10), (8, 7), (8, 5)]\n",
    "        # bm_test.equil_time_temp = (time, 5)\n",
    "    else:\n",
    "        bm_test.equil_time_temp = (time, 10)\n",
    "\n",
    "    test_res = []\n",
    "    for env_state in tqdm(env_states):\n",
    "        ans = env_state[-3:]\n",
    "\n",
    "        query = env_state.copy()\n",
    "        query[-3:] = -1\n",
    "\n",
    "        equi_samples = bm_test.search(query)\n",
    "        \n",
    "        uniqs, uniqs_counts = np.unique(equi_samples[:, -3-bm.num_hnodes-1:-bm.num_hnodes-1], return_counts=True, axis=0)\n",
    "        pred = uniqs[np.argmax(uniqs_counts)]\n",
    "        is_correct = (pred==ans).all()\n",
    "        # print(uniqs, uniqs_counts, is_correct)\n",
    "        test_res.append(is_correct)\n",
    "\n",
    "    print(f'Result: {sum(test_res)}')\n",
    "    return test_res\n"
   ]
  },
  {
   "cell_type": "code",
   "execution_count": 2,
   "id": "d265d704",
   "metadata": {},
   "outputs": [],
   "source": [
    "vis_grp_size = 8\n",
    "\n",
    "shifterProb_metadata = {\n",
    "    'batch_size': 1000,\n",
    "    'vis_grp_size': vis_grp_size,\n",
    "    'on_bit_prob': 0.3,\n",
    "    'weight_decay': 0.0005\n",
    "    # 'weight_decay': 0\n",
    "}\n",
    "\n",
    "num_hnodes = 24\n",
    "base_dir = './shifter_saved_runs/'"
   ]
  },
  {
   "cell_type": "code",
   "execution_count": 3,
   "id": "2754f337",
   "metadata": {},
   "outputs": [
    {
     "data": {
      "text/plain": [
       "<matplotlib.image.AxesImage at 0x1793df479a0>"
      ]
     },
     "execution_count": 3,
     "metadata": {},
     "output_type": "execute_result"
    },
    {
     "data": {
      "image/png": "[encoded data removed]",
      "text/plain": [
       "<Figure size 640x480 with 1 Axes>"
      ]
     },
     "metadata": {},
     "output_type": "display_data"
    }
   ],
   "source": [
    "env_states = get_shifterProb_envStates(shifterProb_metadata['vis_grp_size'])\n",
    "weight_mask = get_shiftprob_weight_mask(shifterProb_metadata['vis_grp_size'], num_hnodes)\n",
    "\n",
    "plt.imshow(weight_mask)"
   ]
  },
  {
   "cell_type": "code",
   "execution_count": null,
   "id": "f4c4cd0b",
   "metadata": {},
   "outputs": [
    {
     "data": {
      "text/plain": [
       "(44, 44)"
      ]
     },
     "execution_count": 4,
     "metadata": {},
     "output_type": "execute_result"
    }
   ],
   "source": [
    "# W_loaded = np.load(f'{base_dir}/shifter_W_1.npy')\n",
    "# W_loaded.shape"
   ]
  },
  {
   "cell_type": "code",
   "execution_count": 4,
   "id": "1d394927",
   "metadata": {},
   "outputs": [
    {
     "data": {
      "application/vnd.jupyter.widget-view+json": {
       "model_id": "b5370ce79cb9440990d5229ff66a8183",
       "version_major": 2,
       "version_minor": 0
      },
      "text/plain": [
       "  0%|          | 0/10 [00:00<?, ?it/s]"
      ]
     },
     "metadata": {},
     "output_type": "display_data"
    },
    {
     "name": "stdout",
     "output_type": "stream",
     "text": [
      "1000 ------ 2 W_range: (0.0, 0.0)\n",
      "#1 "
     ]
    },
    {
     "name": "stderr",
     "output_type": "stream",
     "text": [
      "100%|██████████| 768/768 [01:13<00:00, 10.39it/s]"
     ]
    },
    {
     "name": "stdout",
     "output_type": "stream",
     "text": [
      "Result: 219\n"
     ]
    },
    {
     "name": "stderr",
     "output_type": "stream",
     "text": [
      "\n"
     ]
    },
    {
     "data": {
      "application/vnd.jupyter.widget-view+json": {
       "model_id": "e91e2255a5584deb8a54e31c39b2bd2a",
       "version_major": 2,
       "version_minor": 0
      },
      "text/plain": [
       "  0%|          | 0/10 [00:00<?, ?it/s]"
      ]
     },
     "metadata": {},
     "output_type": "display_data"
    },
    {
     "name": "stdout",
     "output_type": "stream",
     "text": [
      "948 ------ 2 W_range: (-16.0, 4.0)\n",
      "#2 "
     ]
    },
    {
     "name": "stderr",
     "output_type": "stream",
     "text": [
      "100%|██████████| 768/768 [01:11<00:00, 10.69it/s]"
     ]
    },
    {
     "name": "stdout",
     "output_type": "stream",
     "text": [
      "Result: 260\n"
     ]
    },
    {
     "name": "stderr",
     "output_type": "stream",
     "text": [
      "\n"
     ]
    },
    {
     "data": {
      "application/vnd.jupyter.widget-view+json": {
       "model_id": "857051f15db142a8bf0d4245200ab9d0",
       "version_major": 2,
       "version_minor": 0
      },
      "text/plain": [
       "  0%|          | 0/10 [00:00<?, ?it/s]"
      ]
     },
     "metadata": {},
     "output_type": "display_data"
    },
    {
     "name": "stdout",
     "output_type": "stream",
     "text": [
      "471 ------ 11 W_range: (-32.0, 8.0)\n",
      "#3 "
     ]
    },
    {
     "name": "stderr",
     "output_type": "stream",
     "text": [
      "100%|██████████| 768/768 [01:15<00:00, 10.19it/s]"
     ]
    },
    {
     "name": "stdout",
     "output_type": "stream",
     "text": [
      "Result: 255\n"
     ]
    },
    {
     "name": "stderr",
     "output_type": "stream",
     "text": [
      "\n"
     ]
    },
    {
     "data": {
      "application/vnd.jupyter.widget-view+json": {
       "model_id": "4a3b8ce13fab45519f959822335fc9b6",
       "version_major": 2,
       "version_minor": 0
      },
      "text/plain": [
       "  0%|          | 0/10 [00:00<?, ?it/s]"
      ]
     },
     "metadata": {},
     "output_type": "display_data"
    },
    {
     "name": "stdout",
     "output_type": "stream",
     "text": [
      "431 ------ 2 W_range: (-44.0, 12.0)\n",
      "#4 "
     ]
    },
    {
     "name": "stderr",
     "output_type": "stream",
     "text": [
      "100%|██████████| 768/768 [01:13<00:00, 10.46it/s]"
     ]
    },
    {
     "name": "stdout",
     "output_type": "stream",
     "text": [
      "Result: 257\n"
     ]
    },
    {
     "name": "stderr",
     "output_type": "stream",
     "text": [
      "\n"
     ]
    },
    {
     "data": {
      "application/vnd.jupyter.widget-view+json": {
       "model_id": "2faa0b57cb4042569639a4da5e0443c7",
       "version_major": 2,
       "version_minor": 0
      },
      "text/plain": [
       "  0%|          | 0/10 [00:00<?, ?it/s]"
      ]
     },
     "metadata": {},
     "output_type": "display_data"
    },
    {
     "name": "stdout",
     "output_type": "stream",
     "text": [
      "506 ------ 4 W_range: (-48.0, 16.0)\n",
      "#5 "
     ]
    },
    {
     "name": "stderr",
     "output_type": "stream",
     "text": [
      "100%|██████████| 768/768 [01:13<00:00, 10.44it/s]"
     ]
    },
    {
     "name": "stdout",
     "output_type": "stream",
     "text": [
      "Result: 279\n"
     ]
    },
    {
     "name": "stderr",
     "output_type": "stream",
     "text": [
      "\n"
     ]
    },
    {
     "data": {
      "application/vnd.jupyter.widget-view+json": {
       "model_id": "450e3117f08a4d9e85bb526ad1a23027",
       "version_major": 2,
       "version_minor": 0
      },
      "text/plain": [
       "  0%|          | 0/10 [00:00<?, ?it/s]"
      ]
     },
     "metadata": {},
     "output_type": "display_data"
    },
    {
     "name": "stdout",
     "output_type": "stream",
     "text": [
      "600 ------ 1 W_range: (-52.0, 16.0)\n",
      "#6 "
     ]
    },
    {
     "name": "stderr",
     "output_type": "stream",
     "text": [
      "100%|██████████| 768/768 [01:14<00:00, 10.28it/s]"
     ]
    },
    {
     "name": "stdout",
     "output_type": "stream",
     "text": [
      "Result: 293\n"
     ]
    },
    {
     "name": "stderr",
     "output_type": "stream",
     "text": [
      "\n"
     ]
    },
    {
     "data": {
      "application/vnd.jupyter.widget-view+json": {
       "model_id": "5dd4a2ad87814181b08b9e4f6f84d504",
       "version_major": 2,
       "version_minor": 0
      },
      "text/plain": [
       "  0%|          | 0/10 [00:00<?, ?it/s]"
      ]
     },
     "metadata": {},
     "output_type": "display_data"
    },
    {
     "name": "stdout",
     "output_type": "stream",
     "text": [
      "796 ------ 13 W_range: (-60.0, 16.0)\n",
      "#7 "
     ]
    },
    {
     "name": "stderr",
     "output_type": "stream",
     "text": [
      "100%|██████████| 768/768 [01:15<00:00, 10.24it/s]"
     ]
    },
    {
     "name": "stdout",
     "output_type": "stream",
     "text": [
      "Result: 297\n"
     ]
    },
    {
     "name": "stderr",
     "output_type": "stream",
     "text": [
      "\n"
     ]
    },
    {
     "data": {
      "application/vnd.jupyter.widget-view+json": {
       "model_id": "63d6d6b4924140e180145a7230226e1f",
       "version_major": 2,
       "version_minor": 0
      },
      "text/plain": [
       "  0%|          | 0/10 [00:00<?, ?it/s]"
      ]
     },
     "metadata": {},
     "output_type": "display_data"
    },
    {
     "name": "stdout",
     "output_type": "stream",
     "text": [
      "892 ------ 8 W_range: (-64.0, 20.0)\n",
      "#8 "
     ]
    },
    {
     "name": "stderr",
     "output_type": "stream",
     "text": [
      "100%|██████████| 768/768 [01:14<00:00, 10.26it/s]"
     ]
    },
    {
     "name": "stdout",
     "output_type": "stream",
     "text": [
      "Result: 248\n"
     ]
    },
    {
     "name": "stderr",
     "output_type": "stream",
     "text": [
      "\n"
     ]
    },
    {
     "data": {
      "application/vnd.jupyter.widget-view+json": {
       "model_id": "5b7aae6faa5c40f2b016b9b93c65b12c",
       "version_major": 2,
       "version_minor": 0
      },
      "text/plain": [
       "  0%|          | 0/10 [00:00<?, ?it/s]"
      ]
     },
     "metadata": {},
     "output_type": "display_data"
    },
    {
     "name": "stdout",
     "output_type": "stream",
     "text": [
      "919 ------ 0 W_range: (-64.0, 24.0)\n",
      "#9 "
     ]
    },
    {
     "name": "stderr",
     "output_type": "stream",
     "text": [
      "100%|██████████| 768/768 [01:14<00:00, 10.37it/s]"
     ]
    },
    {
     "name": "stdout",
     "output_type": "stream",
     "text": [
      "Result: 221\n"
     ]
    },
    {
     "name": "stderr",
     "output_type": "stream",
     "text": [
      "\n"
     ]
    },
    {
     "data": {
      "application/vnd.jupyter.widget-view+json": {
       "model_id": "1ebc9e491b7c4fc184b494bca94911cf",
       "version_major": 2,
       "version_minor": 0
      },
      "text/plain": [
       "  0%|          | 0/10 [00:00<?, ?it/s]"
      ]
     },
     "metadata": {},
     "output_type": "display_data"
    },
    {
     "name": "stdout",
     "output_type": "stream",
     "text": [
      "969 ------ 1 W_range: (-72.0, 28.0)\n",
      "#10 "
     ]
    },
    {
     "name": "stderr",
     "output_type": "stream",
     "text": [
      "100%|██████████| 768/768 [01:14<00:00, 10.26it/s]"
     ]
    },
    {
     "name": "stdout",
     "output_type": "stream",
     "text": [
      "Result: 177\n"
     ]
    },
    {
     "name": "stderr",
     "output_type": "stream",
     "text": [
      "\n"
     ]
    },
    {
     "data": {
      "application/vnd.jupyter.widget-view+json": {
       "model_id": "2e1950e1745549d090d4e49d77b3c62c",
       "version_major": 2,
       "version_minor": 0
      },
      "text/plain": [
       "  0%|          | 0/10 [00:00<?, ?it/s]"
      ]
     },
     "metadata": {},
     "output_type": "display_data"
    },
    {
     "name": "stdout",
     "output_type": "stream",
     "text": [
      "962 ------ 2 W_range: (-72.0, 28.0)\n",
      "#11 "
     ]
    },
    {
     "name": "stderr",
     "output_type": "stream",
     "text": [
      "100%|██████████| 768/768 [01:13<00:00, 10.45it/s]"
     ]
    },
    {
     "name": "stdout",
     "output_type": "stream",
     "text": [
      "Result: 299\n"
     ]
    },
    {
     "name": "stderr",
     "output_type": "stream",
     "text": [
      "\n"
     ]
    },
    {
     "data": {
      "application/vnd.jupyter.widget-view+json": {
       "model_id": "050ff6ba53744836a038c75c877d1d8e",
       "version_major": 2,
       "version_minor": 0
      },
      "text/plain": [
       "  0%|          | 0/10 [00:00<?, ?it/s]"
      ]
     },
     "metadata": {},
     "output_type": "display_data"
    },
    {
     "name": "stdout",
     "output_type": "stream",
     "text": [
      "982 ------ 3 W_range: (-76.0, 28.0)\n",
      "#12 "
     ]
    },
    {
     "name": "stderr",
     "output_type": "stream",
     "text": [
      "100%|██████████| 768/768 [01:25<00:00,  8.97it/s]"
     ]
    },
    {
     "name": "stdout",
     "output_type": "stream",
     "text": [
      "Result: 321\n"
     ]
    },
    {
     "name": "stderr",
     "output_type": "stream",
     "text": [
      "\n"
     ]
    },
    {
     "data": {
      "application/vnd.jupyter.widget-view+json": {
       "model_id": "2be4d28aa47446c6909608a4c9783a9d",
       "version_major": 2,
       "version_minor": 0
      },
      "text/plain": [
       "  0%|          | 0/10 [00:00<?, ?it/s]"
      ]
     },
     "metadata": {},
     "output_type": "display_data"
    },
    {
     "name": "stdout",
     "output_type": "stream",
     "text": [
      "993 ------ 7 W_range: (-76.0, 24.0)\n",
      "#13 "
     ]
    },
    {
     "name": "stderr",
     "output_type": "stream",
     "text": [
      "100%|██████████| 768/768 [01:15<00:00, 10.19it/s]"
     ]
    },
    {
     "name": "stdout",
     "output_type": "stream",
     "text": [
      "Result: 300\n"
     ]
    },
    {
     "name": "stderr",
     "output_type": "stream",
     "text": [
      "\n"
     ]
    },
    {
     "data": {
      "application/vnd.jupyter.widget-view+json": {
       "model_id": "d89c35eb576c4f77a0d8ad7e8735cb7c",
       "version_major": 2,
       "version_minor": 0
      },
      "text/plain": [
       "  0%|          | 0/10 [00:00<?, ?it/s]"
      ]
     },
     "metadata": {},
     "output_type": "display_data"
    },
    {
     "name": "stdout",
     "output_type": "stream",
     "text": [
      "975 ------ 5 W_range: (-76.0, 24.0)\n",
      "#14 "
     ]
    },
    {
     "name": "stderr",
     "output_type": "stream",
     "text": [
      "100%|██████████| 768/768 [01:14<00:00, 10.26it/s]"
     ]
    },
    {
     "name": "stdout",
     "output_type": "stream",
     "text": [
      "Result: 312\n"
     ]
    },
    {
     "name": "stderr",
     "output_type": "stream",
     "text": [
      "\n"
     ]
    },
    {
     "data": {
      "application/vnd.jupyter.widget-view+json": {
       "model_id": "b9b1b11e594c4d3b9899a1b802b76c7c",
       "version_major": 2,
       "version_minor": 0
      },
      "text/plain": [
       "  0%|          | 0/10 [00:00<?, ?it/s]"
      ]
     },
     "metadata": {},
     "output_type": "display_data"
    },
    {
     "name": "stdout",
     "output_type": "stream",
     "text": [
      "985 ------ 5 W_range: (-68.0, 24.0)\n",
      "#15 "
     ]
    },
    {
     "name": "stderr",
     "output_type": "stream",
     "text": [
      "100%|██████████| 768/768 [01:13<00:00, 10.38it/s]"
     ]
    },
    {
     "name": "stdout",
     "output_type": "stream",
     "text": [
      "Result: 299\n"
     ]
    },
    {
     "name": "stderr",
     "output_type": "stream",
     "text": [
      "\n"
     ]
    },
    {
     "data": {
      "application/vnd.jupyter.widget-view+json": {
       "model_id": "879113f8a69a4fc88ff0eba0251de2b3",
       "version_major": 2,
       "version_minor": 0
      },
      "text/plain": [
       "  0%|          | 0/10 [00:00<?, ?it/s]"
      ]
     },
     "metadata": {},
     "output_type": "display_data"
    },
    {
     "name": "stdout",
     "output_type": "stream",
     "text": [
      "956 ------ 1 W_range: (-68.0, 28.0)\n",
      "#16 "
     ]
    },
    {
     "name": "stderr",
     "output_type": "stream",
     "text": [
      "100%|██████████| 768/768 [01:15<00:00, 10.23it/s]"
     ]
    },
    {
     "name": "stdout",
     "output_type": "stream",
     "text": [
      "Result: 342\n"
     ]
    },
    {
     "name": "stderr",
     "output_type": "stream",
     "text": [
      "\n"
     ]
    },
    {
     "data": {
      "application/vnd.jupyter.widget-view+json": {
       "model_id": "8c7f2980907143d086830441467be157",
       "version_major": 2,
       "version_minor": 0
      },
      "text/plain": [
       "  0%|          | 0/10 [00:00<?, ?it/s]"
      ]
     },
     "metadata": {},
     "output_type": "display_data"
    },
    {
     "name": "stdout",
     "output_type": "stream",
     "text": [
      "954 ------ 11 W_range: (-76.0, 28.0)\n",
      "#17 "
     ]
    },
    {
     "name": "stderr",
     "output_type": "stream",
     "text": [
      "100%|██████████| 768/768 [01:22<00:00,  9.34it/s]"
     ]
    },
    {
     "name": "stdout",
     "output_type": "stream",
     "text": [
      "Result: 274\n"
     ]
    },
    {
     "name": "stderr",
     "output_type": "stream",
     "text": [
      "\n"
     ]
    },
    {
     "data": {
      "application/vnd.jupyter.widget-view+json": {
       "model_id": "63bd49fdf4ab4a18bceb8ddd137b28e9",
       "version_major": 2,
       "version_minor": 0
      },
      "text/plain": [
       "  0%|          | 0/10 [00:00<?, ?it/s]"
      ]
     },
     "metadata": {},
     "output_type": "display_data"
    },
    {
     "name": "stdout",
     "output_type": "stream",
     "text": [
      "956 ------ 10 W_range: (-72.0, 32.0)\n",
      "#18 "
     ]
    },
    {
     "name": "stderr",
     "output_type": "stream",
     "text": [
      "100%|██████████| 768/768 [01:13<00:00, 10.41it/s]"
     ]
    },
    {
     "name": "stdout",
     "output_type": "stream",
     "text": [
      "Result: 338\n"
     ]
    },
    {
     "name": "stderr",
     "output_type": "stream",
     "text": [
      "\n"
     ]
    },
    {
     "data": {
      "application/vnd.jupyter.widget-view+json": {
       "model_id": "a69d81a9e2634c5f8f1366f11a7438ce",
       "version_major": 2,
       "version_minor": 0
      },
      "text/plain": [
       "  0%|          | 0/10 [00:00<?, ?it/s]"
      ]
     },
     "metadata": {},
     "output_type": "display_data"
    },
    {
     "name": "stdout",
     "output_type": "stream",
     "text": [
      "956 ------ 1 W_range: (-76.0, 28.0)\n",
      "#19 "
     ]
    },
    {
     "name": "stderr",
     "output_type": "stream",
     "text": [
      "100%|██████████| 768/768 [01:21<00:00,  9.48it/s]"
     ]
    },
    {
     "name": "stdout",
     "output_type": "stream",
     "text": [
      "Result: 338\n"
     ]
    },
    {
     "name": "stderr",
     "output_type": "stream",
     "text": [
      "\n"
     ]
    },
    {
     "data": {
      "application/vnd.jupyter.widget-view+json": {
       "model_id": "1884d7fb2a024d879bf54534ab7b6e73",
       "version_major": 2,
       "version_minor": 0
      },
      "text/plain": [
       "  0%|          | 0/10 [00:00<?, ?it/s]"
      ]
     },
     "metadata": {},
     "output_type": "display_data"
    },
    {
     "name": "stdout",
     "output_type": "stream",
     "text": [
      "969 ------ 2 W_range: (-76.0, 32.0)\n",
      "#20 "
     ]
    },
    {
     "name": "stderr",
     "output_type": "stream",
     "text": [
      "100%|██████████| 768/768 [01:13<00:00, 10.43it/s]"
     ]
    },
    {
     "name": "stdout",
     "output_type": "stream",
     "text": [
      "Result: 361\n"
     ]
    },
    {
     "name": "stderr",
     "output_type": "stream",
     "text": [
      "\n"
     ]
    },
    {
     "data": {
      "application/vnd.jupyter.widget-view+json": {
       "model_id": "2b432d3014274ad6ae470a33385648c6",
       "version_major": 2,
       "version_minor": 0
      },
      "text/plain": [
       "  0%|          | 0/10 [00:00<?, ?it/s]"
      ]
     },
     "metadata": {},
     "output_type": "display_data"
    },
    {
     "name": "stdout",
     "output_type": "stream",
     "text": [
      "953 ------ 5 W_range: (-72.0, 28.0)\n",
      "#21 "
     ]
    },
    {
     "name": "stderr",
     "output_type": "stream",
     "text": [
      "100%|██████████| 768/768 [01:20<00:00,  9.56it/s]"
     ]
    },
    {
     "name": "stdout",
     "output_type": "stream",
     "text": [
      "Result: 337\n"
     ]
    },
    {
     "name": "stderr",
     "output_type": "stream",
     "text": [
      "\n"
     ]
    },
    {
     "data": {
      "application/vnd.jupyter.widget-view+json": {
       "model_id": "948da7ce70204d7fb6ca4e13c5332a2e",
       "version_major": 2,
       "version_minor": 0
      },
      "text/plain": [
       "  0%|          | 0/10 [00:00<?, ?it/s]"
      ]
     },
     "metadata": {},
     "output_type": "display_data"
    },
    {
     "name": "stdout",
     "output_type": "stream",
     "text": [
      "926 ------ 5 W_range: (-80.0, 28.0)\n",
      "#22 "
     ]
    },
    {
     "name": "stderr",
     "output_type": "stream",
     "text": [
      "100%|██████████| 768/768 [01:09<00:00, 10.97it/s]"
     ]
    },
    {
     "name": "stdout",
     "output_type": "stream",
     "text": [
      "Result: 382\n"
     ]
    },
    {
     "name": "stderr",
     "output_type": "stream",
     "text": [
      "\n"
     ]
    },
    {
     "data": {
      "application/vnd.jupyter.widget-view+json": {
       "model_id": "8d3eea98f6894d25b0e0f019df6cb2df",
       "version_major": 2,
       "version_minor": 0
      },
      "text/plain": [
       "  0%|          | 0/10 [00:00<?, ?it/s]"
      ]
     },
     "metadata": {},
     "output_type": "display_data"
    },
    {
     "name": "stdout",
     "output_type": "stream",
     "text": [
      "929 ------ 12 W_range: (-80.0, 24.0)\n",
      "#23 "
     ]
    },
    {
     "name": "stderr",
     "output_type": "stream",
     "text": [
      "100%|██████████| 768/768 [01:10<00:00, 10.88it/s]"
     ]
    },
    {
     "name": "stdout",
     "output_type": "stream",
     "text": [
      "Result: 337\n"
     ]
    },
    {
     "name": "stderr",
     "output_type": "stream",
     "text": [
      "\n"
     ]
    },
    {
     "data": {
      "application/vnd.jupyter.widget-view+json": {
       "model_id": "30c578b9a30646df8da7ff5ea5fb607c",
       "version_major": 2,
       "version_minor": 0
      },
      "text/plain": [
       "  0%|          | 0/10 [00:00<?, ?it/s]"
      ]
     },
     "metadata": {},
     "output_type": "display_data"
    },
    {
     "name": "stdout",
     "output_type": "stream",
     "text": [
      "945 ------ 4 W_range: (-72.0, 28.0)\n",
      "#24 "
     ]
    },
    {
     "name": "stderr",
     "output_type": "stream",
     "text": [
      "100%|██████████| 768/768 [01:09<00:00, 11.13it/s]\n"
     ]
    },
    {
     "name": "stdout",
     "output_type": "stream",
     "text": [
      "Result: 354\n"
     ]
    },
    {
     "data": {
      "application/vnd.jupyter.widget-view+json": {
       "model_id": "7b956fc4239a4a7291ff4e64fc996c98",
       "version_major": 2,
       "version_minor": 0
      },
      "text/plain": [
       "  0%|          | 0/10 [00:00<?, ?it/s]"
      ]
     },
     "metadata": {},
     "output_type": "display_data"
    },
    {
     "name": "stdout",
     "output_type": "stream",
     "text": [
      "870 ------ 8 W_range: (-72.0, 32.0)\n",
      "#25 "
     ]
    },
    {
     "name": "stderr",
     "output_type": "stream",
     "text": [
      "100%|██████████| 768/768 [01:15<00:00, 10.15it/s]"
     ]
    },
    {
     "name": "stdout",
     "output_type": "stream",
     "text": [
      "Result: 334\n"
     ]
    },
    {
     "name": "stderr",
     "output_type": "stream",
     "text": [
      "\n"
     ]
    },
    {
     "data": {
      "application/vnd.jupyter.widget-view+json": {
       "model_id": "1b6ebcda6e894a0aad813fe9f3a52bb3",
       "version_major": 2,
       "version_minor": 0
      },
      "text/plain": [
       "  0%|          | 0/10 [00:00<?, ?it/s]"
      ]
     },
     "metadata": {},
     "output_type": "display_data"
    },
    {
     "name": "stdout",
     "output_type": "stream",
     "text": [
      "870 ------ 9 W_range: (-72.0, 28.0)\n",
      "#26 "
     ]
    },
    {
     "name": "stderr",
     "output_type": "stream",
     "text": [
      "100%|██████████| 768/768 [01:13<00:00, 10.43it/s]"
     ]
    },
    {
     "name": "stdout",
     "output_type": "stream",
     "text": [
      "Result: 352\n"
     ]
    },
    {
     "name": "stderr",
     "output_type": "stream",
     "text": [
      "\n"
     ]
    },
    {
     "data": {
      "application/vnd.jupyter.widget-view+json": {
       "model_id": "cae34ee8c6fa4ade84f40ee78c47e61a",
       "version_major": 2,
       "version_minor": 0
      },
      "text/plain": [
       "  0%|          | 0/10 [00:00<?, ?it/s]"
      ]
     },
     "metadata": {},
     "output_type": "display_data"
    },
    {
     "name": "stdout",
     "output_type": "stream",
     "text": [
      "878 ------ 9 W_range: (-68.0, 28.0)\n",
      "#27 "
     ]
    },
    {
     "name": "stderr",
     "output_type": "stream",
     "text": [
      "100%|██████████| 768/768 [01:11<00:00, 10.68it/s]"
     ]
    },
    {
     "name": "stdout",
     "output_type": "stream",
     "text": [
      "Result: 325\n"
     ]
    },
    {
     "name": "stderr",
     "output_type": "stream",
     "text": [
      "\n"
     ]
    },
    {
     "data": {
      "application/vnd.jupyter.widget-view+json": {
       "model_id": "40d43456c94d4bab8a775873f1ca0406",
       "version_major": 2,
       "version_minor": 0
      },
      "text/plain": [
       "  0%|          | 0/10 [00:00<?, ?it/s]"
      ]
     },
     "metadata": {},
     "output_type": "display_data"
    },
    {
     "name": "stdout",
     "output_type": "stream",
     "text": [
      "880 ------ 10 W_range: (-68.0, 28.0)\n",
      "#28 "
     ]
    },
    {
     "name": "stderr",
     "output_type": "stream",
     "text": [
      "100%|██████████| 768/768 [01:17<00:00,  9.86it/s]"
     ]
    },
    {
     "name": "stdout",
     "output_type": "stream",
     "text": [
      "Result: 290\n"
     ]
    },
    {
     "name": "stderr",
     "output_type": "stream",
     "text": [
      "\n"
     ]
    },
    {
     "data": {
      "application/vnd.jupyter.widget-view+json": {
       "model_id": "4d9cd791c06343f3a907cbc71be4db59",
       "version_major": 2,
       "version_minor": 0
      },
      "text/plain": [
       "  0%|          | 0/10 [00:00<?, ?it/s]"
      ]
     },
     "metadata": {},
     "output_type": "display_data"
    },
    {
     "name": "stdout",
     "output_type": "stream",
     "text": [
      "873 ------ 10 W_range: (-68.0, 28.0)\n",
      "#29 "
     ]
    },
    {
     "name": "stderr",
     "output_type": "stream",
     "text": [
      "100%|██████████| 768/768 [01:07<00:00, 11.45it/s]"
     ]
    },
    {
     "name": "stdout",
     "output_type": "stream",
     "text": [
      "Result: 360\n"
     ]
    },
    {
     "name": "stderr",
     "output_type": "stream",
     "text": [
      "\n"
     ]
    },
    {
     "data": {
      "application/vnd.jupyter.widget-view+json": {
       "model_id": "8157198b8fff4f83850053a750347532",
       "version_major": 2,
       "version_minor": 0
      },
      "text/plain": [
       "  0%|          | 0/10 [00:00<?, ?it/s]"
      ]
     },
     "metadata": {},
     "output_type": "display_data"
    },
    {
     "name": "stdout",
     "output_type": "stream",
     "text": [
      "847 ------ 8 W_range: (-68.0, 28.0)\n",
      "#30 "
     ]
    },
    {
     "name": "stderr",
     "output_type": "stream",
     "text": [
      "100%|██████████| 768/768 [01:07<00:00, 11.46it/s]"
     ]
    },
    {
     "name": "stdout",
     "output_type": "stream",
     "text": [
      "Result: 382\n"
     ]
    },
    {
     "name": "stderr",
     "output_type": "stream",
     "text": [
      "\n"
     ]
    },
    {
     "data": {
      "application/vnd.jupyter.widget-view+json": {
       "model_id": "8c2df5ed9c4e4e82b7ff5aa04b4f9b5c",
       "version_major": 2,
       "version_minor": 0
      },
      "text/plain": [
       "  0%|          | 0/10 [00:00<?, ?it/s]"
      ]
     },
     "metadata": {},
     "output_type": "display_data"
    },
    {
     "name": "stdout",
     "output_type": "stream",
     "text": [
      "852 ------ 11 W_range: (-68.0, 28.0)\n",
      "#31 "
     ]
    },
    {
     "name": "stderr",
     "output_type": "stream",
     "text": [
      "100%|██████████| 768/768 [01:06<00:00, 11.61it/s]\n"
     ]
    },
    {
     "name": "stdout",
     "output_type": "stream",
     "text": [
      "Result: 377\n"
     ]
    },
    {
     "data": {
      "application/vnd.jupyter.widget-view+json": {
       "model_id": "3873a02da74d4e04a34a23e5804ba900",
       "version_major": 2,
       "version_minor": 0
      },
      "text/plain": [
       "  0%|          | 0/10 [00:00<?, ?it/s]"
      ]
     },
     "metadata": {},
     "output_type": "display_data"
    },
    {
     "name": "stdout",
     "output_type": "stream",
     "text": [
      "826 ------ 10 W_range: (-64.0, 28.0)\n",
      "#32 "
     ]
    },
    {
     "name": "stderr",
     "output_type": "stream",
     "text": [
      "100%|██████████| 768/768 [01:06<00:00, 11.49it/s]"
     ]
    },
    {
     "name": "stdout",
     "output_type": "stream",
     "text": [
      "Result: 274\n"
     ]
    },
    {
     "name": "stderr",
     "output_type": "stream",
     "text": [
      "\n"
     ]
    },
    {
     "data": {
      "application/vnd.jupyter.widget-view+json": {
       "model_id": "39961d5c5c814a7fa7e86b5c66599c33",
       "version_major": 2,
       "version_minor": 0
      },
      "text/plain": [
       "  0%|          | 0/10 [00:00<?, ?it/s]"
      ]
     },
     "metadata": {},
     "output_type": "display_data"
    },
    {
     "name": "stdout",
     "output_type": "stream",
     "text": [
      "838 ------ 9 W_range: (-64.0, 28.0)\n",
      "#33 "
     ]
    },
    {
     "name": "stderr",
     "output_type": "stream",
     "text": [
      "100%|██████████| 768/768 [01:07<00:00, 11.34it/s]"
     ]
    },
    {
     "name": "stdout",
     "output_type": "stream",
     "text": [
      "Result: 272\n"
     ]
    },
    {
     "name": "stderr",
     "output_type": "stream",
     "text": [
      "\n"
     ]
    },
    {
     "data": {
      "application/vnd.jupyter.widget-view+json": {
       "model_id": "bc9a0699b3e34e81acf172262b548001",
       "version_major": 2,
       "version_minor": 0
      },
      "text/plain": [
       "  0%|          | 0/10 [00:00<?, ?it/s]"
      ]
     },
     "metadata": {},
     "output_type": "display_data"
    },
    {
     "ename": "KeyboardInterrupt",
     "evalue": "",
     "output_type": "error",
     "traceback": [
      "\u001b[1;31m---------------------------------------------------------------------------\u001b[0m",
      "\u001b[1;31mKeyboardInterrupt\u001b[0m                         Traceback (most recent call last)",
      "Cell \u001b[1;32mIn[4], line 41\u001b[0m\n\u001b[0;32m     24\u001b[0m eval_shifter_net(bm, env_states)\n\u001b[0;32m     27\u001b[0m bm \u001b[38;5;241m=\u001b[39m BoltzmannMachine(env_states, \n\u001b[0;32m     28\u001b[0m                   num_hnodes, \n\u001b[0;32m     29\u001b[0m                   weight_mask\u001b[38;5;241m=\u001b[39mweight_mask,\n\u001b[1;32m   (...)\u001b[0m\n\u001b[0;32m     39\u001b[0m                   clamped_loop_count\u001b[38;5;241m=\u001b[39mclamped_loop_count\n\u001b[0;32m     40\u001b[0m                  )\n\u001b[1;32m---> 41\u001b[0m \u001b[43mbm\u001b[49m\u001b[38;5;241;43m.\u001b[39;49m\u001b[43mlearn\u001b[49m\u001b[43m(\u001b[49m\u001b[38;5;241;43m10\u001b[39;49m\u001b[43m)\u001b[49m\n",
      "File \u001b[1;32md:\\KJ_personal\\Stuff\\OCL\\boltzmann-machine\\boltzmann_machine.py:331\u001b[0m, in \u001b[0;36mBoltzmannMachine.learn\u001b[1;34m(self, learning_cycles)\u001b[0m\n\u001b[0;32m    328\u001b[0m     \u001b[38;5;28;01melse\u001b[39;00m:\n\u001b[0;32m    329\u001b[0m         \u001b[38;5;28mself\u001b[39m\u001b[38;5;241m.\u001b[39mlogging\u001b[38;5;241m=\u001b[39m\u001b[38;5;28;01mFalse\u001b[39;00m\n\u001b[1;32m--> 331\u001b[0m p \u001b[38;5;241m=\u001b[39m \u001b[38;5;28;43mself\u001b[39;49m\u001b[38;5;241;43m.\u001b[39;49m\u001b[43mclamped_run\u001b[49m\u001b[43m(\u001b[49m\u001b[43m)\u001b[49m\n\u001b[0;32m    332\u001b[0m p_prime \u001b[38;5;241m=\u001b[39m \u001b[38;5;28mself\u001b[39m\u001b[38;5;241m.\u001b[39mfree_run()\n\u001b[0;32m    334\u001b[0m \u001b[38;5;66;03m#DIRECTION OF UPDATE - whether to inc or dec\u001b[39;00m\n",
      "File \u001b[1;32md:\\KJ_personal\\Stuff\\OCL\\boltzmann-machine\\boltzmann_machine.py:263\u001b[0m, in \u001b[0;36mBoltzmannMachine.clamped_run\u001b[1;34m(self)\u001b[0m\n\u001b[0;32m    261\u001b[0m \u001b[38;5;28;01mfor\u001b[39;00m _ \u001b[38;5;129;01min\u001b[39;00m \u001b[38;5;28mrange\u001b[39m(\u001b[38;5;28mself\u001b[39m\u001b[38;5;241m.\u001b[39mclamped_loop_count):\n\u001b[0;32m    262\u001b[0m     init_state \u001b[38;5;241m=\u001b[39m \u001b[38;5;28mself\u001b[39m\u001b[38;5;241m.\u001b[39mget_rand_init_state(state_to_clamp)\n\u001b[1;32m--> 263\u001b[0m     clamped_equi_samples\u001b[38;5;241m.\u001b[39mextend(\u001b[38;5;28;43mself\u001b[39;49m\u001b[38;5;241;43m.\u001b[39;49m\u001b[43mrun\u001b[49m\u001b[43m(\u001b[49m\u001b[43minit_state\u001b[49m\u001b[43m,\u001b[49m\u001b[43m \u001b[49m\u001b[43midxs\u001b[49m\u001b[43m)\u001b[49m) \n\u001b[0;32m    265\u001b[0m equi_samples\u001b[38;5;241m.\u001b[39mextend(clamped_equi_samples)\n\u001b[0;32m    267\u001b[0m \u001b[38;5;28;01mif\u001b[39;00m \u001b[38;5;28mself\u001b[39m\u001b[38;5;241m.\u001b[39mis_shifterProb \u001b[38;5;129;01mor\u001b[39;00m \u001b[38;5;129;01mnot\u001b[39;00m \u001b[38;5;28mself\u001b[39m\u001b[38;5;241m.\u001b[39mnoisy_clamping:\n",
      "File \u001b[1;32md:\\KJ_personal\\Stuff\\OCL\\boltzmann-machine\\boltzmann_machine.py:207\u001b[0m, in \u001b[0;36mBoltzmannMachine.run\u001b[1;34m(self, init_state, idxs)\u001b[0m\n\u001b[0;32m    205\u001b[0m     \u001b[38;5;66;03m# now it is assumed that it has reached equilibrium, now getting the samples from equilibrium distribution.\u001b[39;00m\n\u001b[0;32m    206\u001b[0m     \u001b[38;5;28;01mfor\u001b[39;00m t \u001b[38;5;129;01min\u001b[39;00m \u001b[38;5;28mrange\u001b[39m(\u001b[38;5;28mself\u001b[39m\u001b[38;5;241m.\u001b[39mequil_time_temp[\u001b[38;5;241m0\u001b[39m]):\n\u001b[1;32m--> 207\u001b[0m         equi_samples\u001b[38;5;241m.\u001b[39mextend(\u001b[38;5;28;43mself\u001b[39;49m\u001b[38;5;241;43m.\u001b[39;49m\u001b[43mone_time_run\u001b[49m\u001b[43m(\u001b[49m\u001b[43minit_state\u001b[49m\u001b[43m,\u001b[49m\u001b[43m \u001b[49m\u001b[43midxs\u001b[49m\u001b[43m,\u001b[49m\u001b[43m \u001b[49m\u001b[38;5;28;43mself\u001b[39;49m\u001b[38;5;241;43m.\u001b[39;49m\u001b[43mequil_time_temp\u001b[49m\u001b[43m[\u001b[49m\u001b[38;5;241;43m1\u001b[39;49m\u001b[43m]\u001b[49m\u001b[43m)\u001b[49m)\n\u001b[0;32m    209\u001b[0m \u001b[38;5;28;01mreturn\u001b[39;00m equi_samples\n",
      "File \u001b[1;32md:\\KJ_personal\\Stuff\\OCL\\boltzmann-machine\\boltzmann_machine.py:173\u001b[0m, in \u001b[0;36mBoltzmannMachine.one_time_run\u001b[1;34m(self, init_state, idxs, T)\u001b[0m\n\u001b[0;32m    170\u001b[0m one_time_states \u001b[38;5;241m=\u001b[39m []\n\u001b[0;32m    172\u001b[0m \u001b[38;5;28;01mfor\u001b[39;00m _ \u001b[38;5;129;01min\u001b[39;00m \u001b[38;5;28mrange\u001b[39m(\u001b[38;5;28mlen\u001b[39m(idxs)):\n\u001b[1;32m--> 173\u001b[0m     i \u001b[38;5;241m=\u001b[39m \u001b[38;5;28;43mself\u001b[39;49m\u001b[38;5;241;43m.\u001b[39;49m\u001b[43mrng\u001b[49m\u001b[38;5;241;43m.\u001b[39;49m\u001b[43mchoice\u001b[49m\u001b[43m(\u001b[49m\u001b[43midxs\u001b[49m\u001b[43m,\u001b[49m\u001b[43m \u001b[49m\u001b[38;5;241;43m1\u001b[39;49m\u001b[43m)\u001b[49m\u001b[38;5;241m.\u001b[39mitem()\n\u001b[0;32m    174\u001b[0m     energy_change \u001b[38;5;241m=\u001b[39m np\u001b[38;5;241m.\u001b[39mdot(\u001b[38;5;28mself\u001b[39m\u001b[38;5;241m.\u001b[39mW[i][:], init_state)\n\u001b[0;32m    176\u001b[0m     p_of_1 \u001b[38;5;241m=\u001b[39m \u001b[38;5;28mself\u001b[39m\u001b[38;5;241m.\u001b[39msigmoid(energy_change, T)\n",
      "\u001b[1;31mKeyboardInterrupt\u001b[0m: "
     ]
    }
   ],
   "source": [
    "clamped_loop_count = 2\n",
    "\n",
    "bm = BoltzmannMachine(env_states, \n",
    "                      num_hnodes, \n",
    "                      weight_mask=weight_mask,\n",
    "                      noisy_clamping=False,\n",
    "                      shifterProb_metadata=shifterProb_metadata,\n",
    "\n",
    "                    #   init_W=W_loaded, ###########\n",
    "                      # init_W=bm.W, ###########\n",
    "                     \n",
    "                      log_freq=10,\n",
    "                      detailed_log=False,\n",
    "                      save_debug_data=False,\n",
    "                     \n",
    "                      run_loop_count=1,\n",
    "                      clamped_loop_count=clamped_loop_count\n",
    "                     )\n",
    "bm.learn(10)\n",
    "\n",
    "for i in range(100):\n",
    "\n",
    "    print(f'#{i+1}', end=' ')\n",
    "    eval_shifter_net(bm, env_states)\n",
    "    \n",
    "    \n",
    "    bm = BoltzmannMachine(env_states, \n",
    "                      num_hnodes, \n",
    "                      weight_mask=weight_mask,\n",
    "                      init_W=bm.W,\n",
    "                      noisy_clamping=False,\n",
    "                      shifterProb_metadata=shifterProb_metadata,\n",
    "                     \n",
    "                      log_freq=10,\n",
    "                      detailed_log=False,\n",
    "                      save_debug_data=False,\n",
    "                     \n",
    "                      run_loop_count=1,\n",
    "                      clamped_loop_count=clamped_loop_count\n",
    "                     )\n",
    "    bm.learn(10)"
   ]
  },
  {
   "cell_type": "code",
   "execution_count": 7,
   "id": "941edb77",
   "metadata": {},
   "outputs": [
    {
     "data": {
      "text/plain": [
       "array([[  0.,  -6.,  -8., ...,   2.,  -4., -10.],\n",
       "       [ -6.,   0.,  -4., ...,  -2.,   2., -94.],\n",
       "       [ -8.,  -4.,   0., ...,   4., -10., -18.],\n",
       "       ...,\n",
       "       [  2.,  -2.,   4., ...,   0.,   0., -22.],\n",
       "       [ -4.,   2., -10., ...,   0.,   0., -18.],\n",
       "       [-10., -94., -18., ..., -22., -18.,   0.]])"
      ]
     },
     "execution_count": 7,
     "metadata": {},
     "output_type": "execute_result"
    }
   ],
   "source": [
    "bm.W"
   ]
  },
  {
   "cell_type": "code",
   "execution_count": 6,
   "id": "fbb053df",
   "metadata": {},
   "outputs": [
    {
     "data": {
      "text/plain": [
       "(array([False,  True]), array([ 702, 1234], dtype=int64))"
      ]
     },
     "execution_count": 6,
     "metadata": {},
     "output_type": "execute_result"
    }
   ],
   "source": [
    "np.unique(W_loaded==bm.W, return_counts=True)"
   ]
  },
  {
   "cell_type": "code",
   "execution_count": null,
   "id": "e704aec0",
   "metadata": {},
   "outputs": [],
   "source": [
    "# with PdfPages(f'{base_dir}/dominance_plot.pdf') as pdf:\n",
    "#     for i in range(len(bm.learning_debug)):\n",
    "#         arr_ =  np.sign(np.abs(bm.learning_debug[i]['diff']) - np.abs(bm.learning_debug[i]['WD']))\n",
    "#         plt.imshow(arr_)\n",
    "#         plt.colorbar()\n",
    "#         pdf.savefig()  # Save the current figure into the PDF\n",
    "#         plt.close()"
   ]
  },
  {
   "cell_type": "code",
   "execution_count": 5,
   "id": "655084f5",
   "metadata": {},
   "outputs": [],
   "source": [
    "# np.save(f'{base_dir}/shifter_W_BS500_CC4_1', bm.W)\n",
    "np.save(f'{base_dir}/shifter_W_1', bm.W)\n"
   ]
  },
  {
   "cell_type": "code",
   "execution_count": 8,
   "id": "baa9a6ff",
   "metadata": {},
   "outputs": [
    {
     "data": {
      "text/plain": [
       "<matplotlib.colorbar.Colorbar at 0x1db35897610>"
      ]
     },
     "execution_count": 8,
     "metadata": {},
     "output_type": "execute_result"
    },
    {
     "data": {
      "image/png": "[encoded data removed]",
      "text/plain": [
       "<Figure size 640x480 with 2 Axes>"
      ]
     },
     "metadata": {},
     "output_type": "display_data"
    }
   ],
   "source": [
    "plt.imshow(bm.W)\n",
    "# plt.imshow(W_loaded)\n",
    "plt.colorbar()\n"
   ]
  },
  {
   "cell_type": "code",
   "execution_count": 9,
   "id": "23242140",
   "metadata": {},
   "outputs": [
    {
     "data": {
      "application/vnd.plotly.v1+json": {
       "config": {
        "plotlyServerURL": "https://plot.ly"
       },
       "data": [
        {
         "coloraxis": "coloraxis",
         "hovertemplate": "x: %{x}<br>y: %{y}<br>color: %{z}<extra></extra>",
         "name": "0",
         "type": "heatmap",
         "xaxis": "x",
         "yaxis": "y",
         "z": {
          "bdata": "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",
          "dtype": "f8",
          "shape": "44, 44"
         }
        }
       ],
       "layout": {
        "coloraxis": {
         "colorscale": [
          [
           0,
           "#0d0887"
          ],
          [
           0.1111111111111111,
           "#46039f"
          ],
          [
           0.2222222222222222,
           "#7201a8"
          ],
          [
           0.3333333333333333,
           "#9c179e"
          ],
          [
           0.4444444444444444,
           "#bd3786"
          ],
          [
           0.5555555555555556,
           "#d8576b"
          ],
          [
           0.6666666666666666,
           "#ed7953"
          ],
          [
           0.7777777777777778,
           "#fb9f3a"
          ],
          [
           0.8888888888888888,
           "#fdca26"
          ],
          [
           1,
           "#f0f921"
          ]
         ]
        },
        "margin": {
         "t": 60
        },
        "template": {
         "data": {
          "bar": [
           {
            "error_x": {
             "color": "#2a3f5f"
            },
            "error_y": {
             "color": "#2a3f5f"
            },
            "marker": {
             "line": {
              "color": "#E5ECF6",
              "width": 0.5
             },
             "pattern": {
              "fillmode": "overlay",
              "size": 10,
              "solidity": 0.2
             }
            },
            "type": "bar"
           }
          ],
          "barpolar": [
           {
            "marker": {
             "line": {
              "color": "#E5ECF6",
              "width": 0.5
             },
             "pattern": {
              "fillmode": "overlay",
              "size": 10,
              "solidity": 0.2
             }
            },
            "type": "barpolar"
           }
          ],
          "carpet": [
           {
            "aaxis": {
             "endlinecolor": "#2a3f5f",
             "gridcolor": "white",
             "linecolor": "white",
             "minorgridcolor": "white",
             "startlinecolor": "#2a3f5f"
            },
            "baxis": {
             "endlinecolor": "#2a3f5f",
             "gridcolor": "white",
             "linecolor": "white",
             "minorgridcolor": "white",
             "startlinecolor": "#2a3f5f"
            },
            "type": "carpet"
           }
          ],
          "choropleth": [
           {
            "colorbar": {
             "outlinewidth": 0,
             "ticks": ""
            },
            "type": "choropleth"
           }
          ],
          "contour": [
           {
            "colorbar": {
             "outlinewidth": 0,
             "ticks": ""
            },
            "colorscale": [
             [
              0,
              "#0d0887"
             ],
             [
              0.1111111111111111,
              "#46039f"
             ],
             [
              0.2222222222222222,
              "#7201a8"
             ],
             [
              0.3333333333333333,
              "#9c179e"
             ],
             [
              0.4444444444444444,
              "#bd3786"
             ],
             [
              0.5555555555555556,
              "#d8576b"
             ],
             [
              0.6666666666666666,
              "#ed7953"
             ],
             [
              0.7777777777777778,
              "#fb9f3a"
             ],
             [
              0.8888888888888888,
              "#fdca26"
             ],
             [
              1,
              "#f0f921"
             ]
            ],
            "type": "contour"
           }
          ],
          "contourcarpet": [
           {
            "colorbar": {
             "outlinewidth": 0,
             "ticks": ""
            },
            "type": "contourcarpet"
           }
          ],
          "heatmap": [
           {
            "colorbar": {
             "outlinewidth": 0,
             "ticks": ""
            },
            "colorscale": [
             [
              0,
              "#0d0887"
             ],
             [
              0.1111111111111111,
              "#46039f"
             ],
             [
              0.2222222222222222,
              "#7201a8"
             ],
             [
              0.3333333333333333,
              "#9c179e"
             ],
             [
              0.4444444444444444,
              "#bd3786"
             ],
             [
              0.5555555555555556,
              "#d8576b"
             ],
             [
              0.6666666666666666,
              "#ed7953"
             ],
             [
              0.7777777777777778,
              "#fb9f3a"
             ],
             [
              0.8888888888888888,
              "#fdca26"
             ],
             [
              1,
              "#f0f921"
             ]
            ],
            "type": "heatmap"
           }
          ],
          "histogram": [
           {
            "marker": {
             "pattern": {
              "fillmode": "overlay",
              "size": 10,
              "solidity": 0.2
             }
            },
            "type": "histogram"
           }
          ],
          "histogram2d": [
           {
            "colorbar": {
             "outlinewidth": 0,
             "ticks": ""
            },
            "colorscale": [
             [
              0,
              "#0d0887"
             ],
             [
              0.1111111111111111,
              "#46039f"
             ],
             [
              0.2222222222222222,
              "#7201a8"
             ],
             [
              0.3333333333333333,
              "#9c179e"
             ],
             [
              0.4444444444444444,
              "#bd3786"
             ],
             [
              0.5555555555555556,
              "#d8576b"
             ],
             [
              0.6666666666666666,
              "#ed7953"
             ],
             [
              0.7777777777777778,
              "#fb9f3a"
             ],
             [
              0.8888888888888888,
              "#fdca26"
             ],
             [
              1,
              "#f0f921"
             ]
            ],
            "type": "histogram2d"
           }
          ],
          "histogram2dcontour": [
           {
            "colorbar": {
             "outlinewidth": 0,
             "ticks": ""
            },
            "colorscale": [
             [
              0,
              "#0d0887"
             ],
             [
              0.1111111111111111,
              "#46039f"
             ],
             [
              0.2222222222222222,
              "#7201a8"
             ],
             [
              0.3333333333333333,
              "#9c179e"
             ],
             [
              0.4444444444444444,
              "#bd3786"
             ],
             [
              0.5555555555555556,
              "#d8576b"
             ],
             [
              0.6666666666666666,
              "#ed7953"
             ],
             [
              0.7777777777777778,
              "#fb9f3a"
             ],
             [
              0.8888888888888888,
              "#fdca26"
             ],
             [
              1,
              "#f0f921"
             ]
            ],
            "type": "histogram2dcontour"
           }
          ],
          "mesh3d": [
           {
            "colorbar": {
             "outlinewidth": 0,
             "ticks": ""
            },
            "type": "mesh3d"
           }
          ],
          "parcoords": [
           {
            "line": {
             "colorbar": {
              "outlinewidth": 0,
              "ticks": ""
             }
            },
            "type": "parcoords"
           }
          ],
          "pie": [
           {
            "automargin": true,
            "type": "pie"
           }
          ],
          "scatter": [
           {
            "fillpattern": {
             "fillmode": "overlay",
             "size": 10,
             "solidity": 0.2
            },
            "type": "scatter"
           }
          ],
          "scatter3d": [
           {
            "line": {
             "colorbar": {
              "outlinewidth": 0,
              "ticks": ""
             }
            },
            "marker": {
             "colorbar": {
              "outlinewidth": 0,
              "ticks": ""
             }
            },
            "type": "scatter3d"
           }
          ],
          "scattercarpet": [
           {
            "marker": {
             "colorbar": {
              "outlinewidth": 0,
              "ticks": ""
             }
            },
            "type": "scattercarpet"
           }
          ],
          "scattergeo": [
           {
            "marker": {
             "colorbar": {
              "outlinewidth": 0,
              "ticks": ""
             }
            },
            "type": "scattergeo"
           }
          ],
          "scattergl": [
           {
            "marker": {
             "colorbar": {
              "outlinewidth": 0,
              "ticks": ""
             }
            },
            "type": "scattergl"
           }
          ],
          "scattermap": [
           {
            "marker": {
             "colorbar": {
              "outlinewidth": 0,
              "ticks": ""
             }
            },
            "type": "scattermap"
           }
          ],
          "scattermapbox": [
           {
            "marker": {
             "colorbar": {
              "outlinewidth": 0,
              "ticks": ""
             }
            },
            "type": "scattermapbox"
           }
          ],
          "scatterpolar": [
           {
            "marker": {
             "colorbar": {
              "outlinewidth": 0,
              "ticks": ""
             }
            },
            "type": "scatterpolar"
           }
          ],
          "scatterpolargl": [
           {
            "marker": {
             "colorbar": {
              "outlinewidth": 0,
              "ticks": ""
             }
            },
            "type": "scatterpolargl"
           }
          ],
          "scatterternary": [
           {
            "marker": {
             "colorbar": {
              "outlinewidth": 0,
              "ticks": ""
             }
            },
            "type": "scatterternary"
           }
          ],
          "surface": [
           {
            "colorbar": {
             "outlinewidth": 0,
             "ticks": ""
            },
            "colorscale": [
             [
              0,
              "#0d0887"
             ],
             [
              0.1111111111111111,
              "#46039f"
             ],
             [
              0.2222222222222222,
              "#7201a8"
             ],
             [
              0.3333333333333333,
              "#9c179e"
             ],
             [
              0.4444444444444444,
              "#bd3786"
             ],
             [
              0.5555555555555556,
              "#d8576b"
             ],
             [
              0.6666666666666666,
              "#ed7953"
             ],
             [
              0.7777777777777778,
              "#fb9f3a"
             ],
             [
              0.8888888888888888,
              "#fdca26"
             ],
             [
              1,
              "#f0f921"
             ]
            ],
            "type": "surface"
           }
          ],
          "table": [
           {
            "cells": {
             "fill": {
              "color": "#EBF0F8"
             },
             "line": {
              "color": "white"
             }
            },
            "header": {
             "fill": {
              "color": "#C8D4E3"
             },
             "line": {
              "color": "white"
             }
            },
            "type": "table"
           }
          ]
         },
         "layout": {
          "annotationdefaults": {
           "arrowcolor": "#2a3f5f",
           "arrowhead": 0,
           "arrowwidth": 1
          },
          "autotypenumbers": "strict",
          "coloraxis": {
           "colorbar": {
            "outlinewidth": 0,
            "ticks": ""
           }
          },
          "colorscale": {
           "diverging": [
            [
             0,
             "#8e0152"
            ],
            [
             0.1,
             "#c51b7d"
            ],
            [
             0.2,
             "#de77ae"
            ],
            [
             0.3,
             "#f1b6da"
            ],
            [
             0.4,
             "#fde0ef"
            ],
            [
             0.5,
             "#f7f7f7"
            ],
            [
             0.6,
             "#e6f5d0"
            ],
            [
             0.7,
             "#b8e186"
            ],
            [
             0.8,
             "#7fbc41"
            ],
            [
             0.9,
             "#4d9221"
            ],
            [
             1,
             "#276419"
            ]
           ],
           "sequential": [
            [
             0,
             "#0d0887"
            ],
            [
             0.1111111111111111,
             "#46039f"
            ],
            [
             0.2222222222222222,
             "#7201a8"
            ],
            [
             0.3333333333333333,
             "#9c179e"
            ],
            [
             0.4444444444444444,
             "#bd3786"
            ],
            [
             0.5555555555555556,
             "#d8576b"
            ],
            [
             0.6666666666666666,
             "#ed7953"
            ],
            [
             0.7777777777777778,
             "#fb9f3a"
            ],
            [
             0.8888888888888888,
             "#fdca26"
            ],
            [
             1,
             "#f0f921"
            ]
           ],
           "sequentialminus": [
            [
             0,
             "#0d0887"
            ],
            [
             0.1111111111111111,
             "#46039f"
            ],
            [
             0.2222222222222222,
             "#7201a8"
            ],
            [
             0.3333333333333333,
             "#9c179e"
            ],
            [
             0.4444444444444444,
             "#bd3786"
            ],
            [
             0.5555555555555556,
             "#d8576b"
            ],
            [
             0.6666666666666666,
             "#ed7953"
            ],
            [
             0.7777777777777778,
             "#fb9f3a"
            ],
            [
             0.8888888888888888,
             "#fdca26"
            ],
            [
             1,
             "#f0f921"
            ]
           ]
          },
          "colorway": [
           "#636efa",
           "#EF553B",
           "#00cc96",
           "#ab63fa",
           "#FFA15A",
           "#19d3f3",
           "#FF6692",
           "#B6E880",
           "#FF97FF",
           "#FECB52"
          ],
          "font": {
           "color": "#2a3f5f"
          },
          "geo": {
           "bgcolor": "white",
           "lakecolor": "white",
           "landcolor": "#E5ECF6",
           "showlakes": true,
           "showland": true,
           "subunitcolor": "white"
          },
          "hoverlabel": {
           "align": "left"
          },
          "hovermode": "closest",
          "mapbox": {
           "style": "light"
          },
          "paper_bgcolor": "white",
          "plot_bgcolor": "#E5ECF6",
          "polar": {
           "angularaxis": {
            "gridcolor": "white",
            "linecolor": "white",
            "ticks": ""
           },
           "bgcolor": "#E5ECF6",
           "radialaxis": {
            "gridcolor": "white",
            "linecolor": "white",
            "ticks": ""
           }
          },
          "scene": {
           "xaxis": {
            "backgroundcolor": "#E5ECF6",
            "gridcolor": "white",
            "gridwidth": 2,
            "linecolor": "white",
            "showbackground": true,
            "ticks": "",
            "zerolinecolor": "white"
           },
           "yaxis": {
            "backgroundcolor": "#E5ECF6",
            "gridcolor": "white",
            "gridwidth": 2,
            "linecolor": "white",
            "showbackground": true,
            "ticks": "",
            "zerolinecolor": "white"
           },
           "zaxis": {
            "backgroundcolor": "#E5ECF6",
            "gridcolor": "white",
            "gridwidth": 2,
            "linecolor": "white",
            "showbackground": true,
            "ticks": "",
            "zerolinecolor": "white"
           }
          },
          "shapedefaults": {
           "line": {
            "color": "#2a3f5f"
           }
          },
          "ternary": {
           "aaxis": {
            "gridcolor": "white",
            "linecolor": "white",
            "ticks": ""
           },
           "baxis": {
            "gridcolor": "white",
            "linecolor": "white",
            "ticks": ""
           },
           "bgcolor": "#E5ECF6",
           "caxis": {
            "gridcolor": "white",
            "linecolor": "white",
            "ticks": ""
           }
          },
          "title": {
           "x": 0.05
          },
          "xaxis": {
           "automargin": true,
           "gridcolor": "white",
           "linecolor": "white",
           "ticks": "",
           "title": {
            "standoff": 15
           },
           "zerolinecolor": "white",
           "zerolinewidth": 2
          },
          "yaxis": {
           "automargin": true,
           "gridcolor": "white",
           "linecolor": "white",
           "ticks": "",
           "title": {
            "standoff": 15
           },
           "zerolinecolor": "white",
           "zerolinewidth": 2
          }
         }
        },
        "xaxis": {
         "anchor": "y",
         "constrain": "domain",
         "domain": [
          0,
          1
         ],
         "scaleanchor": "y"
        },
        "yaxis": {
         "anchor": "x",
         "autorange": "reversed",
         "constrain": "domain",
         "domain": [
          0,
          1
         ]
        }
       }
      }
     },
     "metadata": {},
     "output_type": "display_data"
    }
   ],
   "source": [
    "# px.imshow(W_loaded)\n",
    "px.imshow(bm.W)"
   ]
  },
  {
   "cell_type": "markdown",
   "id": "1aa35c83",
   "metadata": {},
   "source": [
    "### Evaluation"
   ]
  },
  {
   "cell_type": "code",
   "execution_count": 19,
   "id": "fb072c17",
   "metadata": {},
   "outputs": [
    {
     "name": "stderr",
     "output_type": "stream",
     "text": [
      "100%|██████████| 768/768 [00:30<00:00, 25.07it/s]"
     ]
    },
    {
     "name": "stdout",
     "output_type": "stream",
     "text": [
      "Result: 255\n"
     ]
    },
    {
     "name": "stderr",
     "output_type": "stream",
     "text": [
      "\n"
     ]
    }
   ],
   "source": [
    "# bm_ = BoltzmannMachine(env_states, num_hnodes, init_W=bm.W)\n",
    "test_res = eval_shifter_net(bm, env_states, gentle_sched=True)"
   ]
  },
  {
   "cell_type": "code",
   "execution_count": 12,
   "id": "a0e9c4fa",
   "metadata": {},
   "outputs": [
    {
     "name": "stdout",
     "output_type": "stream",
     "text": [
      "0 0.0\n",
      "1 0.375\n",
      "2 0.40476190476190477\n",
      "3 0.4523809523809524\n",
      "4 0.3523809523809524\n",
      "5 0.27380952380952384\n",
      "6 0.15476190476190477\n",
      "7 0.08333333333333333\n",
      "8 0.0\n"
     ]
    }
   ],
   "source": [
    "one_counts = (env_states[:, :shifterProb_metadata['vis_grp_size']]==1).sum(axis=1)\n",
    "test_res = np.array(test_res)\n",
    "\n",
    "for count in range(0, 9):\n",
    "    idxs_ = np.nonzero(one_counts==count)[0]\n",
    "    print(count, test_res[idxs_].sum()/len(idxs_))\n",
    "    "
   ]
  },
  {
   "cell_type": "code",
   "execution_count": 13,
   "id": "81d1afae",
   "metadata": {},
   "outputs": [
    {
     "data": {
      "image/png": "[encoded data removed]",
      "text/plain": [
       "<Figure size 640x480 with 2 Axes>"
      ]
     },
     "metadata": {},
     "output_type": "display_data"
    },
    {
     "data": {
      "image/png": "[encoded data removed]",
      "text/plain": [
       "<Figure size 640x480 with 2 Axes>"
      ]
     },
     "metadata": {},
     "output_type": "display_data"
    },
    {
     "data": {
      "image/png": "[encoded data removed]",
      "text/plain": [
       "<Figure size 640x480 with 2 Axes>"
      ]
     },
     "metadata": {},
     "output_type": "display_data"
    },
    {
     "data": {
      "image/png": "[encoded data removed]",
      "text/plain": [
       "<Figure size 640x480 with 2 Axes>"
      ]
     },
     "metadata": {},
     "output_type": "display_data"
    },
    {
     "data": {
      "image/png": "[encoded data removed]",
      "text/plain": [
       "<Figure size 640x480 with 2 Axes>"
      ]
     },
     "metadata": {},
     "output_type": "display_data"
    },
    {
     "data": {
      "image/png": "[encoded data removed]",
      "text/plain": [
       "<Figure size 640x480 with 2 Axes>"
      ]
     },
     "metadata": {},
     "output_type": "display_data"
    },
    {
     "data": {
      "image/png": "[encoded data removed]",
      "text/plain": [
       "<Figure size 640x480 with 2 Axes>"
      ]
     },
     "metadata": {},
     "output_type": "display_data"
    },
    {
     "data": {
      "image/png": "[encoded data removed]",
      "text/plain": [
       "<Figure size 640x480 with 2 Axes>"
      ]
     },
     "metadata": {},
     "output_type": "display_data"
    },
    {
     "data": {
      "image/png": "[encoded data removed]",
      "text/plain": [
       "<Figure size 640x480 with 2 Axes>"
      ]
     },
     "metadata": {},
     "output_type": "display_data"
    },
    {
     "data": {
      "image/png": "[encoded data removed]",
      "text/plain": [
       "<Figure size 640x480 with 2 Axes>"
      ]
     },
     "metadata": {},
     "output_type": "display_data"
    },
    {
     "data": {
      "image/png": "[encoded data removed]",
      "text/plain": [
       "<Figure size 640x480 with 2 Axes>"
      ]
     },
     "metadata": {},
     "output_type": "display_data"
    },
    {
     "data": {
      "image/png": "[encoded data removed]",
      "text/plain": [
       "<Figure size 640x480 with 2 Axes>"
      ]
     },
     "metadata": {},
     "output_type": "display_data"
    },
    {
     "data": {
      "image/png": "[encoded data removed]",
      "text/plain": [
       "<Figure size 640x480 with 2 Axes>"
      ]
     },
     "metadata": {},
     "output_type": "display_data"
    },
    {
     "data": {
      "image/png": "[encoded data removed]",
      "text/plain": [
       "<Figure size 640x480 with 2 Axes>"
      ]
     },
     "metadata": {},
     "output_type": "display_data"
    },
    {
     "data": {
      "image/png": "[encoded data removed]",
      "text/plain": [
       "<Figure size 640x480 with 2 Axes>"
      ]
     },
     "metadata": {},
     "output_type": "display_data"
    },
    {
     "data": {
      "image/png": "[encoded data removed]",
      "text/plain": [
       "<Figure size 640x480 with 2 Axes>"
      ]
     },
     "metadata": {},
     "output_type": "display_data"
    },
    {
     "data": {
      "image/png": "[encoded data removed]",
      "text/plain": [
       "<Figure size 640x480 with 2 Axes>"
      ]
     },
     "metadata": {},
     "output_type": "display_data"
    },
    {
     "data": {
      "image/png": "[encoded data removed]",
      "text/plain": [
       "<Figure size 640x480 with 2 Axes>"
      ]
     },
     "metadata": {},
     "output_type": "display_data"
    },
    {
     "data": {
      "image/png": "[encoded data removed]",
      "text/plain": [
       "<Figure size 640x480 with 2 Axes>"
      ]
     },
     "metadata": {},
     "output_type": "display_data"
    },
    {
     "data": {
      "image/png": "[encoded data removed]",
      "text/plain": [
       "<Figure size 640x480 with 2 Axes>"
      ]
     },
     "metadata": {},
     "output_type": "display_data"
    },
    {
     "data": {
      "image/png": "[encoded data removed]",
      "text/plain": [
       "<Figure size 640x480 with 2 Axes>"
      ]
     },
     "metadata": {},
     "output_type": "display_data"
    },
    {
     "data": {
      "image/png": "[encoded data removed]",
      "text/plain": [
       "<Figure size 640x480 with 2 Axes>"
      ]
     },
     "metadata": {},
     "output_type": "display_data"
    },
    {
     "data": {
      "image/png": "[encoded data removed]",
      "text/plain": [
       "<Figure size 640x480 with 2 Axes>"
      ]
     },
     "metadata": {},
     "output_type": "display_data"
    },
    {
     "data": {
      "image/png": "[encoded data removed]",
      "text/plain": [
       "<Figure size 640x480 with 2 Axes>"
      ]
     },
     "metadata": {},
     "output_type": "display_data"
    }
   ],
   "source": [
    "for ih in range(bm.num_vnodes, bm.num_vnodes+num_hnodes):\n",
    "    htov_weights = bm.W[ih, :bm.num_vnodes]\n",
    "    \n",
    "    htoFirstGrp = htov_weights[:vis_grp_size]\n",
    "    htoSecondGrp = htov_weights[vis_grp_size:2*vis_grp_size]\n",
    "    htoLabel = np.append(htov_weights[2*vis_grp_size:], 5*[-1])\n",
    "    htov_reshaped = np.array([htoFirstGrp, htoSecondGrp, htoLabel])\n",
    "\n",
    "    plt.imshow(htov_reshaped)\n",
    "    plt.colorbar()\n",
    "    plt.show()\n",
    "    # print(htov_reshaped)\n",
    "    # print('-----------------------------------------------------')"
   ]
  },
  {
   "cell_type": "code",
   "execution_count": null,
   "id": "1a309c34",
   "metadata": {},
   "outputs": [],
   "source": []
  }
 ],
 "metadata": {
  "kernelspec": {
   "display_name": "idls23",
   "language": "python",
   "name": "python3"
  },
  "language_info": {
   "codemirror_mode": {
    "name": "ipython",
    "version": 3
   },
   "file_extension": ".py",
   "mimetype": "text/x-python",
   "name": "python",
   "nbconvert_exporter": "python",
   "pygments_lexer": "ipython3",
   "version": "3.8.19"
  }
 },
 "nbformat": 4,
 "nbformat_minor": 5
}
