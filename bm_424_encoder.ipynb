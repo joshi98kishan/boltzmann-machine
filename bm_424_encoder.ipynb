{
 "cells": [
  {
   "cell_type": "code",
   "execution_count": 7,
   "metadata": {},
   "outputs": [],
   "source": [
    "from tqdm import tqdm\n",
    "import numpy as np\n",
    "from boltzmann_machine import BoltzmannMachine\n",
    "from utils import (get_encprob_env_states, \n",
    "                   get_encprob_weight_mask, \n",
    "                   get_free_run_scores,\n",
    "                   get_clamped_run_scores,\n",
    "                   parity_problem_testing)\n",
    "\n",
    "grp_size = 4\n",
    "num_hnodes = 2\n",
    "env_states = get_encprob_env_states(grp_size)\n",
    "weight_mask = get_encprob_weight_mask(grp_size, num_hnodes) # two vis grps should not interact with each other and hidden units should not interact with each other"
   ]
  },
  {
   "cell_type": "code",
   "execution_count": 2,
   "metadata": {},
   "outputs": [
    {
     "data": {
      "application/vnd.jupyter.widget-view+json": {
       "model_id": "d7d7e655497c4e5f8a61d13940df874c",
       "version_major": 2,
       "version_minor": 0
      },
      "text/plain": [
       "  0%|          | 0/1000 [00:00<?, ?it/s]"
      ]
     },
     "metadata": {},
     "output_type": "display_data"
    },
    {
     "name": "stdout",
     "output_type": "stream",
     "text": [
      "#1 [1. 0.], [1. 1.], [0. 1.], [0. 0.], [0, 1, 2, 3, 92] W_range: (-58.0, 44.0)\n"
     ]
    },
    {
     "data": {
      "application/vnd.jupyter.widget-view+json": {
       "model_id": "dd91408a61a0416996019bdc1bee1f6a",
       "version_major": 2,
       "version_minor": 0
      },
      "text/plain": [
       "  0%|          | 0/1000 [00:00<?, ?it/s]"
      ]
     },
     "metadata": {},
     "output_type": "display_data"
    },
    {
     "name": "stdout",
     "output_type": "stream",
     "text": [
      "#2 [0. 1.], [1. 1.], [0. 0.], [1. 0.], [0, 1, 2, 3, 65, 70, 109] W_range: (-48.0, 36.0)\n"
     ]
    },
    {
     "data": {
      "application/vnd.jupyter.widget-view+json": {
       "model_id": "aa0782653b36414ebe011074ddb2c47e",
       "version_major": 2,
       "version_minor": 0
      },
      "text/plain": [
       "  0%|          | 0/1000 [00:00<?, ?it/s]"
      ]
     },
     "metadata": {},
     "output_type": "display_data"
    },
    {
     "name": "stdout",
     "output_type": "stream",
     "text": [
      "#3 [1. 1.], [0. 1.], [1. 0.], [1. 1.], [1, 2, 3, 5, 59, 98] W_range: (-56.0, 40.0)\n"
     ]
    },
    {
     "data": {
      "application/vnd.jupyter.widget-view+json": {
       "model_id": "4573cb141a9a4cdfa3d192cbd414e5dc",
       "version_major": 2,
       "version_minor": 0
      },
      "text/plain": [
       "  0%|          | 0/1000 [00:00<?, ?it/s]"
      ]
     },
     "metadata": {},
     "output_type": "display_data"
    },
    {
     "name": "stdout",
     "output_type": "stream",
     "text": [
      "#4 [1. 1.], [0. 0.], [1. 0.], [0. 1.], [0, 1, 2, 3, 106, 107, 108, 120] W_range: (-56.0, 40.0)\n"
     ]
    },
    {
     "data": {
      "application/vnd.jupyter.widget-view+json": {
       "model_id": "4b61a475fc16469d9a09baa29be0529b",
       "version_major": 2,
       "version_minor": 0
      },
      "text/plain": [
       "  0%|          | 0/1000 [00:00<?, ?it/s]"
      ]
     },
     "metadata": {},
     "output_type": "display_data"
    },
    {
     "name": "stdout",
     "output_type": "stream",
     "text": [
      "#5 [1. 0.], [0. 1.], [0. 0.], [1. 1.], [0, 1, 2, 3, 75, 127] W_range: (-86.0, 60.0)\n"
     ]
    },
    {
     "data": {
      "application/vnd.jupyter.widget-view+json": {
       "model_id": "878a3df298da48f6a1401fef1a1fba94",
       "version_major": 2,
       "version_minor": 0
      },
      "text/plain": [
       "  0%|          | 0/1000 [00:00<?, ?it/s]"
      ]
     },
     "metadata": {},
     "output_type": "display_data"
    },
    {
     "name": "stdout",
     "output_type": "stream",
     "text": [
      "#6 [0. 1.], [0. 0.], [1. 1.], [1. 0.], [0, 1, 2, 3, 94, 130, 145] W_range: (-56.0, 46.0)\n"
     ]
    },
    {
     "data": {
      "application/vnd.jupyter.widget-view+json": {
       "model_id": "63f8986840af469fa623e78b0cc75645",
       "version_major": 2,
       "version_minor": 0
      },
      "text/plain": [
       "  0%|          | 0/1000 [00:00<?, ?it/s]"
      ]
     },
     "metadata": {},
     "output_type": "display_data"
    },
    {
     "name": "stdout",
     "output_type": "stream",
     "text": [
      "#7 [0. 0.], [0. 1.], [1. 1.], [0. 1.], [0, 1, 2, 5, 6, 113] W_range: (-74.0, 36.0)\n"
     ]
    },
    {
     "data": {
      "application/vnd.jupyter.widget-view+json": {
       "model_id": "28baa288ae5042e59f12776abfae7ab4",
       "version_major": 2,
       "version_minor": 0
      },
      "text/plain": [
       "  0%|          | 0/1000 [00:00<?, ?it/s]"
      ]
     },
     "metadata": {},
     "output_type": "display_data"
    },
    {
     "name": "stdout",
     "output_type": "stream",
     "text": [
      "#8 [0. 0.], [1. 1.], [1. 0.], [0. 1.], [0, 1, 2, 3, 106, 126, 131, 134] W_range: (-56.0, 40.0)\n"
     ]
    },
    {
     "data": {
      "application/vnd.jupyter.widget-view+json": {
       "model_id": "5b89341f56184f1c82cbf5b36db609c5",
       "version_major": 2,
       "version_minor": 0
      },
      "text/plain": [
       "  0%|          | 0/1000 [00:00<?, ?it/s]"
      ]
     },
     "metadata": {},
     "output_type": "display_data"
    },
    {
     "name": "stdout",
     "output_type": "stream",
     "text": [
      "#9 [0. 0.], [1. 1.], [1. 0.], [0. 1.], [0, 1, 2, 3, 81, 88, 106, 109] W_range: (-48.0, 36.0)\n"
     ]
    },
    {
     "data": {
      "application/vnd.jupyter.widget-view+json": {
       "model_id": "e811c5804510436d8d7232b2da22ce45",
       "version_major": 2,
       "version_minor": 0
      },
      "text/plain": [
       "  0%|          | 0/1000 [00:00<?, ?it/s]"
      ]
     },
     "metadata": {},
     "output_type": "display_data"
    },
    {
     "name": "stdout",
     "output_type": "stream",
     "text": [
      "#10 [0. 0.], [1. 0.], [1. 0.], [0. 1.], [0, 1, 2, 5, 6, 114] W_range: (-94.0, 64.0)\n"
     ]
    }
   ],
   "source": [
    "bm_list = []\n",
    "\n",
    "noise_multiplicity = 10\n",
    "learning_cycles = 1000\n",
    "\n",
    "\n",
    "for i in range(10):\n",
    "    bm = BoltzmannMachine(env_states, \n",
    "                        num_hnodes,\n",
    "                        weight_mask=weight_mask, \n",
    "                        noisy_clamping=True,\n",
    "                        logging=False,\n",
    "                        num_noisyEnvState_per_envState=noise_multiplicity,\n",
    "                        run_loop_count=1\n",
    "                        )\n",
    "    bm.learn(learning_cycles)\n",
    "\n",
    "    last_clamped_debug_list = bm.clamped_run_debug[-1]\n",
    "    last_free_run_dist = bm.free_run_debug[-1]\n",
    "\n",
    "    print(f'#{i+1}', end=' ')\n",
    "    for clamped_run_dist in last_clamped_debug_list:\n",
    "        bm.clamped_run_eval(clamped_run_dist)\n",
    "    bm.free_run_eval(last_free_run_dist)\n",
    "\n",
    "    bm_list.append(bm)"
   ]
  },
  {
   "cell_type": "code",
   "execution_count": 3,
   "metadata": {},
   "outputs": [
    {
     "name": "stdout",
     "output_type": "stream",
     "text": [
      "91 10\n",
      "91 10\n",
      "0 0\n",
      "92 10\n",
      "61 10\n",
      "88 10\n",
      "0 0\n",
      "78 10\n",
      "96 10\n",
      "0 0\n"
     ]
    }
   ],
   "source": [
    "for bm in bm_list:\n",
    "    free_run_scores = get_free_run_scores(bm)\n",
    "    clamped_run_scores = get_clamped_run_scores(bm)==grp_size\n",
    "\n",
    "    print(free_run_scores[-100:].sum(), clamped_run_scores[-10:].sum())\n",
    "    # print(free_run_scores[-50:], clamped_run_scores[-100:].sum())\n"
   ]
  },
  {
   "cell_type": "code",
   "execution_count": null,
   "metadata": {},
   "outputs": [
    {
     "name": "stdout",
     "output_type": "stream",
     "text": [
      "#1 [3, 3, 3, 3, 3]; [1, 2, 3, 4, 5, 52, 105, 128, 132]\n",
      "#2 [4, 4, 4, 4, 4]; [0, 1, 2, 3, 153, 156, 159, 163]\n",
      "#3 [4, 4, 4, 4, 4]; [0, 1, 2, 3, 99, 120, 142, 150]\n",
      "#4 [3, 3, 3, 3, 3]; [0, 1, 3, 4, 13, 88, 101, 118]\n",
      "#5 [3, 3, 3, 3, 3]; [1, 2, 3, 5, 20, 104]\n",
      "#6 [4, 4, 4, 4, 4]; [0, 1, 2, 4]\n",
      "#7 [4, 4, 4, 4, 4]; [0, 1, 2, 3, 81, 106, 111]\n",
      "#8 [4, 4, 4, 4, 4]; [0, 1, 2, 4, 57, 65, 96]\n",
      "#9 [4, 4, 4, 4, 4]; [0, 1, 2, 3, 90, 116, 138, 142, 174]\n",
      "#10 [4, 4, 4, 4, 4]; [0, 1, 2, 3, 83, 121, 138]\n"
     ]
    }
   ],
   "source": [
    "for i, bm in enumerate(bm_list):\n",
    "    scores = get_encNetwork_scores(bm)\n",
    "\n",
    "    print(f'#{i+1}', end=' ')\n",
    "    print(scores[-5:], end='; ')\n",
    "\n",
    "    bm.free_run_eval(bm.free_run_debug[-1])"
   ]
  },
  {
   "cell_type": "markdown",
   "metadata": {},
   "source": [
    "#### Result\n",
    "- First run - 4/10 \n",
    "- 3/10\n",
    "- 3/10\n",
    "- 4/10; lower noise multiplocity of 100\n",
    "- 3/10;  lower noise multiplocity of 50\n",
    "- 3/10;  lower noise multiplocity of 50\n",
    "- 4/10; noisy_multiplicty=30, learning_cycles=50*2\n",
    "- 2/10; noisy_multiplicty=30, learning_cycles=50*2\n",
    "- 5/5; noisy_multiplicty=20, learning_cycles=500*2 \n",
    "- 5/5; noisy_multiplicty=20, learning_cycles=500*2 \n",
    "- 6/10; noisy_multiplicty=10, learning_cycles=1000\n",
    "- 7/10; noisy_multiplicty=10, learning_cycles=1000\n",
    "- 7/10; noisy_multiplicty=\"\"1\"\", learning_cycles=2000\n",
    "- 9/10; noisy_multiplicty=10, learning_cycles=1000\n",
    "- 9/10; noisy_multiplicty=10, learning_cycles=1000\n",
    "- 7/10; noisy_multiplicty=10, learning_cycles=1000\n",
    "- 6/8; noisy_multiplicty=10, learning_cycles=1000\n",
    "- 9/10; noisy_multiplicty=10, learning_cycles=1000\n",
    "- 7/10; ~~~~~~~~~~~~~~~~~~~~~~~~~~~~\n",
    "- 2/3; ~~\n",
    "- 8/10; ~~\n",
    "- 8/10; ~~\n",
    "- 7/10\n",
    "\n",
    "with clamped_run=2\n",
    "- 6/10 - \n",
    "- 8/10 - \n",
    "- 9/10\n",
    "- 7/10\n",
    "- 7/10\n",
    "\n",
    "\n"
   ]
  }
 ],
 "metadata": {
  "kernelspec": {
   "display_name": "idls23",
   "language": "python",
   "name": "python3"
  },
  "language_info": {
   "codemirror_mode": {
    "name": "ipython",
    "version": 3
   },
   "file_extension": ".py",
   "mimetype": "text/x-python",
   "name": "python",
   "nbconvert_exporter": "python",
   "pygments_lexer": "ipython3",
   "version": "3.8.19"
  }
 },
 "nbformat": 4,
 "nbformat_minor": 2
}
