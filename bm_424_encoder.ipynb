{
 "cells": [
  {
   "cell_type": "code",
   "execution_count": 1,
   "metadata": {},
   "outputs": [],
   "source": [
    "import gc\n",
    "import pickle\n",
    "from tqdm import tqdm\n",
    "import numpy as np\n",
    "import matplotlib.pyplot as plt\n",
    "import plotly.express as px\n",
    "import plotly.graph_objects as go\n",
    "from plotly.subplots import make_subplots\n",
    "from matplotlib.backends.backend_pdf import PdfPages\n",
    "\n",
    "\n",
    "from boltzmann_machine import BoltzmannMachine\n",
    "\n",
    "\n",
    "from utils import (plot_sigmoid,\n",
    "                   get_encprob_env_states, \n",
    "                   get_encprob_weight_mask, \n",
    "                   gen_free_state_dist_pdf, \n",
    "                   gen_clamped_state_dist_pdf, \n",
    "                   gen_learning_plots_pdf,\n",
    "                   get_boltzmann_distribution,\n",
    "                   get_probs_from_counts,\n",
    "                   plot_series,\n",
    "                   stringify_vec)\n",
    "\n",
    "grp_size = 4\n",
    "num_hnodes = 2\n",
    "env_states = get_encprob_env_states(grp_size)\n",
    "weight_mask = get_encprob_weight_mask(grp_size, num_hnodes) # two vis grps should not interact with each other and hidden units should not interact with each other"
   ]
  },
  {
   "cell_type": "code",
   "execution_count": 2,
   "metadata": {},
   "outputs": [],
   "source": [
    "def get_encNetwork_scores(bm):\n",
    "    uniqs_len_list = []\n",
    "    for clamped_debug_list in (bm.clamped_run_debug):\n",
    "        env_hidd_states = []\n",
    "        for clamped_dist in clamped_debug_list:\n",
    "            max_count_hidd_state = bm.clamped_run_eval(clamped_dist, print_eval=False)\n",
    "            env_hidd_states.append(stringify_vec(max_count_hidd_state))\n",
    "\n",
    "        uniqs_len_list.append(len(np.unique(env_hidd_states)))\n",
    "\n",
    "    return uniqs_len_list"
   ]
  },
  {
   "cell_type": "code",
   "execution_count": 3,
   "metadata": {},
   "outputs": [
    {
     "data": {
      "application/vnd.jupyter.widget-view+json": {
       "model_id": "e580db8c80d74d579b56bcda9be6b732",
       "version_major": 2,
       "version_minor": 0
      },
      "text/plain": [
       "  0%|          | 0/1000 [00:00<?, ?it/s]"
      ]
     },
     "metadata": {},
     "output_type": "display_data"
    },
    {
     "name": "stdout",
     "output_type": "stream",
     "text": [
      "#1 [0. 0.], [0. 1.], [1. 0.], [1. 1.], [0, 1, 2, 3, 113]\n"
     ]
    },
    {
     "data": {
      "application/vnd.jupyter.widget-view+json": {
       "model_id": "b0d31e7c88134203b40b038697635db7",
       "version_major": 2,
       "version_minor": 0
      },
      "text/plain": [
       "  0%|          | 0/1000 [00:00<?, ?it/s]"
      ]
     },
     "metadata": {},
     "output_type": "display_data"
    },
    {
     "name": "stdout",
     "output_type": "stream",
     "text": [
      "#2 [1. 0.], [1. 1.], [0. 1.], [0. 0.], [0, 1, 2, 3, 76, 77]\n"
     ]
    },
    {
     "data": {
      "application/vnd.jupyter.widget-view+json": {
       "model_id": "ea0d4b40c12844e8af77cffabafac55f",
       "version_major": 2,
       "version_minor": 0
      },
      "text/plain": [
       "  0%|          | 0/1000 [00:00<?, ?it/s]"
      ]
     },
     "metadata": {},
     "output_type": "display_data"
    },
    {
     "name": "stdout",
     "output_type": "stream",
     "text": [
      "#3 [0. 1.], [1. 0.], [0. 0.], [1. 1.], [0, 1, 2, 3, 93, 95, 129, 136]\n"
     ]
    },
    {
     "data": {
      "application/vnd.jupyter.widget-view+json": {
       "model_id": "7e5887c331d640639069c79350c28b5c",
       "version_major": 2,
       "version_minor": 0
      },
      "text/plain": [
       "  0%|          | 0/1000 [00:00<?, ?it/s]"
      ]
     },
     "metadata": {},
     "output_type": "display_data"
    },
    {
     "name": "stdout",
     "output_type": "stream",
     "text": [
      "#4 [0. 0.], [0. 1.], [1. 1.], [1. 0.], [0, 1, 2, 3, 79, 111, 115]\n"
     ]
    },
    {
     "data": {
      "application/vnd.jupyter.widget-view+json": {
       "model_id": "4057a82e152f444c99a21d5c5c5ea4d7",
       "version_major": 2,
       "version_minor": 0
      },
      "text/plain": [
       "  0%|          | 0/1000 [00:00<?, ?it/s]"
      ]
     },
     "metadata": {},
     "output_type": "display_data"
    },
    {
     "name": "stdout",
     "output_type": "stream",
     "text": [
      "#5 [0. 1.], [1. 0.], [0. 0.], [1. 1.], [0, 1, 2, 3, 106, 110]\n"
     ]
    },
    {
     "data": {
      "application/vnd.jupyter.widget-view+json": {
       "model_id": "70e18fe4939748e0a27c47ff09c56afb",
       "version_major": 2,
       "version_minor": 0
      },
      "text/plain": [
       "  0%|          | 0/1000 [00:00<?, ?it/s]"
      ]
     },
     "metadata": {},
     "output_type": "display_data"
    },
    {
     "name": "stdout",
     "output_type": "stream",
     "text": [
      "#6 [0. 1.], [1. 0.], [1. 1.], [1. 0.], [0, 1, 2, 5, 27, 36, 66]\n"
     ]
    },
    {
     "data": {
      "application/vnd.jupyter.widget-view+json": {
       "model_id": "69cae8f74dbc479f8b3cf21161caba65",
       "version_major": 2,
       "version_minor": 0
      },
      "text/plain": [
       "  0%|          | 0/1000 [00:00<?, ?it/s]"
      ]
     },
     "metadata": {},
     "output_type": "display_data"
    },
    {
     "name": "stdout",
     "output_type": "stream",
     "text": [
      "#7 [1. 1.], [0. 1.], [1. 0.], [0. 0.], [0, 1, 2, 3, 73, 115, 120]\n"
     ]
    },
    {
     "data": {
      "application/vnd.jupyter.widget-view+json": {
       "model_id": "88463cd9c47c423e8cd3a5b409197b95",
       "version_major": 2,
       "version_minor": 0
      },
      "text/plain": [
       "  0%|          | 0/1000 [00:00<?, ?it/s]"
      ]
     },
     "metadata": {},
     "output_type": "display_data"
    },
    {
     "name": "stdout",
     "output_type": "stream",
     "text": [
      "#8 [0. 1.], [1. 0.], [1. 1.], [0. 0.], [0, 1, 2, 3, 73, 88, 117, 137]\n"
     ]
    },
    {
     "data": {
      "application/vnd.jupyter.widget-view+json": {
       "model_id": "f41730e3c5e44cffa2169e34702c7f87",
       "version_major": 2,
       "version_minor": 0
      },
      "text/plain": [
       "  0%|          | 0/1000 [00:00<?, ?it/s]"
      ]
     },
     "metadata": {},
     "output_type": "display_data"
    },
    {
     "name": "stdout",
     "output_type": "stream",
     "text": [
      "#9 [1. 1.], [1. 0.], [0. 1.], [0. 0.], [0, 1, 2, 3, 100, 109, 116]\n"
     ]
    },
    {
     "data": {
      "application/vnd.jupyter.widget-view+json": {
       "model_id": "8a47963095ba49bc81dff4a909d12692",
       "version_major": 2,
       "version_minor": 0
      },
      "text/plain": [
       "  0%|          | 0/1000 [00:00<?, ?it/s]"
      ]
     },
     "metadata": {},
     "output_type": "display_data"
    },
    {
     "name": "stdout",
     "output_type": "stream",
     "text": [
      "#10 [1. 1.], [0. 1.], [0. 0.], [1. 0.], [0, 1, 2, 3, 99, 103, 143, 151]\n"
     ]
    }
   ],
   "source": [
    "bm_list = []\n",
    "\n",
    "noise_multiplicity = 10\n",
    "learning_cycles = 1000\n",
    "\n",
    "for i in range(10):\n",
    "    bm = BoltzmannMachine(env_states, \n",
    "                        num_hnodes,\n",
    "                        weight_mask=weight_mask, \n",
    "                        noisy_clamping=True,\n",
    "                        logging=False,\n",
    "                        num_noisyEnvState_per_envState=noise_multiplicity)\n",
    "    bm.learn(learning_cycles)\n",
    "\n",
    "    last_clamped_debug_list = bm.clamped_run_debug[-1]\n",
    "    last_free_run_dist = bm.free_run_debug[-1]\n",
    "\n",
    "\n",
    "    print(f'#{i+1}', end=' ')\n",
    "    for clamped_run_dist in last_clamped_debug_list:\n",
    "        bm.clamped_run_eval(clamped_run_dist)\n",
    "    bm.free_run_eval(last_free_run_dist)\n",
    "\n",
    "    bm_list.append(bm)"
   ]
  },
  {
   "cell_type": "code",
   "execution_count": 4,
   "metadata": {},
   "outputs": [
    {
     "name": "stdout",
     "output_type": "stream",
     "text": [
      "#1 [4, 4, 4, 4, 4]; [0, 1, 2, 3, 113]\n",
      "#2 [4, 4, 4, 4, 4]; [0, 1, 2, 3, 76, 77]\n",
      "#3 [4, 4, 4, 4, 4]; [0, 1, 2, 3, 93, 95, 129, 136]\n",
      "#4 [4, 4, 4, 4, 4]; [0, 1, 2, 3, 79, 111, 115]\n",
      "#5 [4, 4, 4, 4, 4]; [0, 1, 2, 3, 106, 110]\n",
      "#6 [3, 3, 3, 3, 3]; [0, 1, 2, 5, 27, 36, 66]\n",
      "#7 [4, 4, 4, 4, 4]; [0, 1, 2, 3, 73, 115, 120]\n",
      "#8 [4, 4, 4, 4, 4]; [0, 1, 2, 3, 73, 88, 117, 137]\n",
      "#9 [4, 4, 4, 4, 4]; [0, 1, 2, 3, 100, 109, 116]\n",
      "#10 [4, 4, 4, 4, 4]; [0, 1, 2, 3, 99, 103, 143, 151]\n"
     ]
    }
   ],
   "source": [
    "for i, bm in enumerate(bm_list):\n",
    "    scores = get_encNetwork_scores(bm)\n",
    "\n",
    "    print(f'#{i+1}', end=' ')\n",
    "    print(scores[-5:], end='; ')\n",
    "\n",
    "    bm.free_run_eval(bm.free_run_debug[-1])"
   ]
  },
  {
   "cell_type": "markdown",
   "metadata": {},
   "source": [
    "#### Result\n",
    "- First run - 4/10 \n",
    "- 3/10\n",
    "- 3/10\n",
    "- 4/10; lower noise multiplocity of 100\n",
    "- 3/10;  lower noise multiplocity of 50\n",
    "- 3/10;  lower noise multiplocity of 50\n",
    "- 4/10; noisy_multiplicty=30, learning_cycles=50*2\n",
    "- 2/10; noisy_multiplicty=30, learning_cycles=50*2\n",
    "- 5/5; noisy_multiplicty=20, learning_cycles=500*2 \n",
    "- 5/5; noisy_multiplicty=20, learning_cycles=500*2 \n",
    "- 6/10; noisy_multiplicty=10, learning_cycles=1000\n",
    "- 7/10; noisy_multiplicty=10, learning_cycles=1000\n",
    "- 7/10; noisy_multiplicty=\"\"1\"\", learning_cycles=2000\n",
    "- 9/10; noisy_multiplicty=10, learning_cycles=1000\n",
    "- 9/10; noisy_multiplicty=10, learning_cycles=1000"
   ]
  }
 ],
 "metadata": {
  "kernelspec": {
   "display_name": "idls23",
   "language": "python",
   "name": "python3"
  },
  "language_info": {
   "codemirror_mode": {
    "name": "ipython",
    "version": 3
   },
   "file_extension": ".py",
   "mimetype": "text/x-python",
   "name": "python",
   "nbconvert_exporter": "python",
   "pygments_lexer": "ipython3",
   "version": "3.8.19"
  }
 },
 "nbformat": 4,
 "nbformat_minor": 2
}
