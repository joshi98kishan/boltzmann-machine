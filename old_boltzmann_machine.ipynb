{
 "cells": [
  {
   "cell_type": "code",
   "execution_count": 1,
   "metadata": {},
   "outputs": [],
   "source": [
    "import random\n",
    "import numpy as np\n",
    "from tqdm.notebook import tqdm\n",
    "from collections import defaultdict\n",
    "\n",
    "from scipy.special import expit"
   ]
  },
  {
   "cell_type": "markdown",
   "metadata": {},
   "source": [
    "### BM Class"
   ]
  },
  {
   "cell_type": "code",
   "execution_count": 2,
   "metadata": {},
   "outputs": [],
   "source": [
    "def create_W(v1_h1, h1_h2, h2_h3, h3_h4, v2_h4):\n",
    "    W_ = np.array([\n",
    "        [0, 0, v1_h1, 0,     0,     0],\n",
    "        [0, 0, 0,     0,     0,     v2_h4],\n",
    "        [0, 0, 0,     h1_h2, 0,     0],\n",
    "        [0, 0, 0,     0,     h2_h3, 0],\n",
    "        [0, 0, 0,     0,     0,     h3_h4],\n",
    "        [0, 0, 0,     0,     0,     0],\n",
    "    ])\n",
    "\n",
    "    W = W_ + W_.T\n",
    "    return W\n",
    "\n",
    "def print_linnet_res(dist):\n",
    "    for k in sorted(dist.keys()):\n",
    "        k = list(k)\n",
    "        print([k[0]]+[k[2]], '---',k[3:5], '---',[k[5]]+[k[1]], dist[tuple(k)])\n",
    "\n",
    "def run_and_show_res(bm_model, init_states, show_dist=True, show_dist_vis = False):\n",
    "    dist_vis = defaultdict(int)\n",
    "    dist = defaultdict(int)\n",
    "    for state in tqdm(init_states):\n",
    "        x_rem = bm_model.remember(state)\n",
    "        dist_vis[tuple(x_rem[:2])] += 1\n",
    "        dist[tuple(x_rem)] += 1\n",
    "        \n",
    "    print('>>>> no. states found: ', len(dist), f' max stopping step: {max(bm_model.stopping_step)}')\n",
    "    \n",
    "    if show_dist:\n",
    "        for k in sorted(dist.keys()):\n",
    "            print('{:25} | {:^5} | {:^5}'.format(str(k), dist[k], bm_model.calc_energy(np.array(k))))\n",
    "\n",
    "    if show_dist_vis:\n",
    "        for k in sorted(dist_vis.keys()):\n",
    "            print('{:25} | {:^5}'.format(str(k), dist_vis[k]))\n",
    "\n",
    "\n",
    "class BoltzmannMachine:\n",
    "    def __init__(self, W, thinking_steps, off_act_val = 0, rng_seed=None, update_order= 'random', stochastic_update= False, stopping_enabled=True):\n",
    "        self.W = W\n",
    "        self.thinking_steps = thinking_steps\n",
    "        self.OFF_ACT_VAL = off_act_val\n",
    "        self.stopping_step = []\n",
    "        self.rng = np.random.default_rng(rng_seed)\n",
    "        num_nodes = self.W.shape[0]\n",
    "        self.stopping_enabled = stopping_enabled\n",
    "\n",
    "        ##########\n",
    "        self.T = 1\n",
    "        ##########\n",
    "\n",
    "        if update_order=='random':\n",
    "            self.get_idxs = lambda: random.sample(range(num_nodes), num_nodes)\n",
    "        elif update_order=='1ton':\n",
    "            self.get_idxs = lambda: range(num_nodes)\n",
    "        elif update_order=='nto1':\n",
    "            self.get_idxs = lambda: range(num_nodes-1, -1, -1)\n",
    "        else:\n",
    "            print('Invalid `update_order` value')\n",
    "\n",
    "        if stochastic_update:\n",
    "            self.update_node = self.stochastic_update\n",
    "        else:\n",
    "            self.update_node = self.deterministic_update\n",
    "\n",
    "\n",
    "    def deterministic_update(self, local_field, x_i):\n",
    "        if local_field > 0:\n",
    "            return 1\n",
    "        elif local_field < 0:\n",
    "            return self.OFF_ACT_VAL\n",
    "        else:\n",
    "            return x_i\n",
    "        \n",
    "    def stochastic_update(self, local_field, x_i):\n",
    "        '''\n",
    "        This formula has set temperature T=1, implicitly.\n",
    "        To have effect of `self.T`, we need to write explicit formula.\n",
    "        '''\n",
    "        p = expit(local_field)\n",
    "        return self.rng.choice([self.OFF_ACT_VAL, 1], p = [1-p, p])\n",
    "\n",
    "    def remember(self, x):\n",
    "        x = x.copy()\n",
    "        x_prev = x.copy()\n",
    "        \n",
    "        for t in (range(self.thinking_steps)):            \n",
    "            for i in self.get_idxs():\n",
    "                i_local_field = np.dot(self.W[i][:], x)\n",
    "                x[i] = self.update_node(i_local_field, x[i])\n",
    "\n",
    "            if self.stopping_enabled:\n",
    "                stop = np.equal(x, x_prev).all()\n",
    "                if stop:\n",
    "                    self.stopping_step.append(t)\n",
    "                    break\n",
    "                else:\n",
    "                    x_prev = x.copy()\n",
    "\n",
    "        else:\n",
    "            self.stopping_step.append(t)\n",
    "\n",
    "        return x\n",
    "    \n",
    "    def calc_energy(self, state_vec):\n",
    "        energy = -(state_vec@(self.W@state_vec))\n",
    "        return energy\n",
    "    \n",
    "    def calc_botzmann_prob(self, energy):\n",
    "        #TODO\n",
    "        pass"
   ]
  },
  {
   "cell_type": "code",
   "execution_count": 3,
   "metadata": {},
   "outputs": [],
   "source": [
    "steps = 100\n",
    "pop_size = 1000\n",
    "num_vis = 2\n",
    "num_hidd = 4\n",
    "num_nodes = num_vis + num_hidd \n",
    "\n",
    "rng = np.random.default_rng()"
   ]
  },
  {
   "cell_type": "markdown",
   "metadata": {},
   "source": [
    "### Binary BM"
   ]
  },
  {
   "cell_type": "markdown",
   "metadata": {},
   "source": [
    "Hinton's line net, all one weights"
   ]
  },
  {
   "cell_type": "code",
   "execution_count": 20,
   "metadata": {},
   "outputs": [
    {
     "name": "stdout",
     "output_type": "stream",
     "text": [
      ">>>> no. states found:  2  max stopping step: 5\n",
      "(0, 0, 0, 0, 0, 0)        |  11   |   0  \n",
      "(1, 1, 1, 1, 1, 1)        |  989  |  -10 \n"
     ]
    }
   ],
   "source": [
    "args = {'v1_h1' : 1,\n",
    "        'h1_h2' : 1,\n",
    "        'h2_h3' : 1,\n",
    "        'h3_h4' : 1,\n",
    "        'v2_h4' : 1}\n",
    "\n",
    "W = create_W(**args)\n",
    "init_states = rng.integers(0, 2, size=(pop_size, num_nodes))\n",
    "\n",
    "bm = BoltzmannMachine(W, steps, stochastic_update=False)\n",
    "\n",
    "run_and_show_res(bm, init_states, show_dist=True, show_dist_vis=False)"
   ]
  },
  {
   "cell_type": "markdown",
   "metadata": {},
   "source": [
    "Hinton's line net, ....."
   ]
  },
  {
   "cell_type": "code",
   "execution_count": 18,
   "metadata": {},
   "outputs": [
    {
     "data": {
      "application/vnd.jupyter.widget-view+json": {
       "model_id": "be421222399f44bfb8fd73cf68a7d185",
       "version_major": 2,
       "version_minor": 0
      },
      "text/plain": [
       "  0%|          | 0/1000 [00:00<?, ?it/s]"
      ]
     },
     "metadata": {},
     "output_type": "display_data"
    },
    {
     "name": "stdout",
     "output_type": "stream",
     "text": [
      ">>>> no. states found:  6  max stopping step: 2\n",
      "(0, 0)                    |  15  \n",
      "(0, 1)                    |  128 \n",
      "(1, 0)                    |  138 \n",
      "(1, 1)                    |  719 \n",
      "-------------------\n"
     ]
    }
   ],
   "source": [
    "args = {'v1_h1' : 1,\n",
    "        'h1_h2' : 1,\n",
    "        'h2_h3' : -1,\n",
    "        'h3_h4' : 1,\n",
    "        'v2_h4' : 1}\n",
    "\n",
    "W = create_W(**args)\n",
    "init_states = rng.integers(0, 2, size=(pop_size, num_nodes))\n",
    "\n",
    "bm = BoltzmannMachine(W, steps, stochastic_update=False, stopping_enabled=True)\n",
    "\n",
    "run_and_show_res(bm, init_states, show_dist=False,show_dist_vis=True)\n",
    "\n",
    "print('-------------------')\n",
    "# print_linnet_res(dist)"
   ]
  },
  {
   "cell_type": "markdown",
   "metadata": {},
   "source": [
    "### Bipolar BM"
   ]
  },
  {
   "cell_type": "markdown",
   "metadata": {},
   "source": [
    "Hinton's line net, pos weights, random init weights"
   ]
  },
  {
   "cell_type": "code",
   "execution_count": 198,
   "metadata": {},
   "outputs": [
    {
     "name": "stdout",
     "output_type": "stream",
     "text": [
      ">>>>  10\n",
      "(-1, -1, -1, -1, -1, -1)  | 2192  |  -10 \n",
      "(-1, -1, -1, 1, 1, -1)    |  343  |  -2  \n",
      "(-1, 1, -1, -1, -1, 1)    |  813  |  -6  \n",
      "(-1, 1, -1, -1, 1, 1)     |  892  |  -6  \n",
      "(-1, 1, -1, 1, 1, 1)      |  788  |  -6  \n",
      "(1, -1, 1, -1, -1, -1)    |  809  |  -6  \n",
      "(1, -1, 1, 1, -1, -1)     |  836  |  -6  \n",
      "(1, -1, 1, 1, 1, -1)      |  786  |  -6  \n",
      "(1, 1, 1, -1, -1, 1)      |  337  |  -2  \n",
      "(1, 1, 1, 1, 1, 1)        | 2204  |  -10 \n"
     ]
    }
   ],
   "source": [
    "pop_size = 10_000\n",
    "\n",
    "args = {'v1_h1' : 1,\n",
    "        'h1_h2' : 1,\n",
    "        'h2_h3' : 1,\n",
    "        'h3_h4' : 1,\n",
    "        'v2_h4' : 1\n",
    "        }\n",
    "W = create_W(**args)\n",
    "\n",
    "init_states = rng.integers(0, 2, size=(pop_size, num_nodes))\n",
    "\n",
    "init_states[init_states==0] = -1\n",
    "bm = BoltzmannMachine(W, steps, off_act_val=-1)\n",
    "\n",
    "dist_vis = defaultdict(int)\n",
    "dist = defaultdict(int)\n",
    "for state in init_states:\n",
    "    x_rem = bm.remember(state)\n",
    "    dist_vis[tuple(x_rem[:2])] += 1\n",
    "    dist[tuple(x_rem)] += 1\n",
    "print('>>>> ', len(dist))\n",
    "for k in sorted(dist.keys()):\n",
    "    print('{:25} | {:^5} | {:^5}'.format(str(k), dist[k], bm.calc_energy(np.array(k))))"
   ]
  },
  {
   "cell_type": "code",
   "execution_count": 175,
   "metadata": {},
   "outputs": [
    {
     "name": "stdout",
     "output_type": "stream",
     "text": [
      "[-1, -1] --- [-1, -1] --- [-1, -1] 2250\n",
      "[-1, -1] --- [1, 1] --- [-1, -1] 355\n",
      "[-1, -1] --- [-1, -1] --- [1, 1] 801\n",
      "[-1, -1] --- [-1, 1] --- [1, 1] 824\n",
      "[-1, -1] --- [1, 1] --- [1, 1] 806\n",
      "[1, 1] --- [-1, -1] --- [-1, -1] 771\n",
      "[1, 1] --- [1, -1] --- [-1, -1] 859\n",
      "[1, 1] --- [1, 1] --- [-1, -1] 790\n",
      "[1, 1] --- [-1, -1] --- [1, 1] 352\n",
      "[1, 1] --- [1, 1] --- [1, 1] 2192\n"
     ]
    }
   ],
   "source": [
    "for k in sorted(dist.keys()):\n",
    "    k = list(k)\n",
    "    print([k[0]]+[k[2]], '---',k[3:5], '---',[k[5]]+[k[1]], dist[tuple(k)])"
   ]
  },
  {
   "cell_type": "markdown",
   "metadata": {},
   "source": [
    "6 node HN, random asymmetric weights        \n",
    "RESULT: Non-Convergence"
   ]
  },
  {
   "cell_type": "code",
   "execution_count": 250,
   "metadata": {},
   "outputs": [
    {
     "name": "stdout",
     "output_type": "stream",
     "text": [
      ">>>>  56\n",
      "(-1, -1, -1, -1, -1, -1)  |   6   | -4.0 \n",
      "(-1, -1, -1, -1, -1, 1)   |  46   | -4.0 \n",
      "(-1, -1, -1, -1, 1, -1)   |  20   | -8.0 \n",
      "(-1, -1, -1, -1, 1, 1)    |  21   | -0.0 \n",
      "(-1, -1, -1, 1, -1, -1)   |   5   | -0.0 \n",
      "(-1, -1, -1, 1, -1, 1)    |  36   | -8.0 \n",
      "(-1, -1, -1, 1, 1, -1)    |  13   | -4.0 \n",
      "(-1, -1, -1, 1, 1, 1)     |  22   | -4.0 \n",
      "(-1, -1, 1, -1, -1, -1)   |   2   | -0.0 \n",
      "(-1, -1, 1, -1, -1, 1)    |  13   | -0.0 \n",
      "(-1, -1, 1, 1, -1, 1)     |  14   | -4.0 \n",
      "(-1, -1, 1, 1, 1, 1)      |   3   |  8.0 \n",
      "(-1, 1, -1, -1, -1, -1)   |   1   |  4.0 \n",
      "(-1, 1, -1, -1, -1, 1)    |   4   |  4.0 \n",
      "(-1, 1, -1, -1, 1, -1)    |  57   | -8.0 \n",
      "(-1, 1, -1, -1, 1, 1)     |  50   | -0.0 \n",
      "(-1, 1, -1, 1, -1, -1)    |   9   |  8.0 \n",
      "(-1, 1, -1, 1, -1, 1)     |  15   | -0.0 \n",
      "(-1, 1, -1, 1, 1, -1)     |  38   | -4.0 \n",
      "(-1, 1, -1, 1, 1, 1)      |  32   | -4.0 \n",
      "(-1, 1, 1, -1, -1, 1)     |   7   | -0.0 \n",
      "(-1, 1, 1, -1, 1, -1)     |  10   | -4.0 \n",
      "(-1, 1, 1, -1, 1, 1)      |   9   |  4.0 \n",
      "(-1, 1, 1, 1, -1, -1)     |  10   |  4.0 \n",
      "(-1, 1, 1, 1, -1, 1)      |  13   | -4.0 \n",
      "(-1, 1, 1, 1, 1, -1)      |  30   | -0.0 \n",
      "(-1, 1, 1, 1, 1, 1)       |  11   | -0.0 \n",
      "(1, -1, -1, -1, -1, -1)   |   7   | -0.0 \n",
      "(1, -1, -1, -1, -1, 1)    |  40   | -0.0 \n",
      "(1, -1, -1, -1, 1, -1)    |  11   | -4.0 \n",
      "(1, -1, -1, -1, 1, 1)     |  15   |  4.0 \n",
      "(1, -1, -1, 1, -1, -1)    |  15   |  4.0 \n",
      "(1, -1, -1, 1, -1, 1)     |   2   | -4.0 \n",
      "(1, -1, -1, 1, 1, -1)     |   6   | -0.0 \n",
      "(1, -1, -1, 1, 1, 1)      |   1   | -0.0 \n",
      "(1, -1, 1, -1, -1, -1)    |  42   | -4.0 \n",
      "(1, -1, 1, -1, -1, 1)     |  48   | -4.0 \n",
      "(1, -1, 1, -1, 1, -1)     |   8   | -0.0 \n",
      "(1, -1, 1, -1, 1, 1)      |   3   |  8.0 \n",
      "(1, -1, 1, 1, -1, -1)     |  49   | -0.0 \n",
      "(1, -1, 1, 1, -1, 1)      |  47   | -8.0 \n",
      "(1, -1, 1, 1, 1, -1)      |   1   |  4.0 \n",
      "(1, 1, -1, -1, -1, -1)    |   1   |  8.0 \n",
      "(1, 1, -1, -1, -1, 1)     |   2   |  8.0 \n",
      "(1, 1, -1, -1, 1, -1)     |   9   | -4.0 \n",
      "(1, 1, -1, -1, 1, 1)      |   3   |  4.0 \n",
      "(1, 1, -1, 1, 1, -1)      |  18   | -0.0 \n",
      "(1, 1, -1, 1, 1, 1)       |   9   | -0.0 \n",
      "(1, 1, 1, -1, -1, -1)     |  26   | -4.0 \n",
      "(1, 1, 1, -1, -1, 1)      |   5   | -4.0 \n",
      "(1, 1, 1, -1, 1, -1)      |  49   | -8.0 \n",
      "(1, 1, 1, -1, 1, 1)       |   4   | -0.0 \n",
      "(1, 1, 1, 1, -1, -1)      |  20   | -0.0 \n",
      "(1, 1, 1, 1, -1, 1)       |  22   | -8.0 \n",
      "(1, 1, 1, 1, 1, -1)       |  36   | -4.0 \n",
      "(1, 1, 1, 1, 1, 1)        |   4   | -4.0 \n"
     ]
    }
   ],
   "source": [
    "rng1 = np.random.default_rng(12345)\n",
    "\n",
    "W = rng1.integers(0, 2, size=(6, 6)).astype(float)\n",
    "W[W==0] = -1\n",
    "np.fill_diagonal(W, 0)\n",
    "\n",
    "init_states = rng.integers(0, 2, size=(pop_size, num_nodes))\n",
    "\n",
    "init_states[init_states==0] = -1\n",
    "bm = BoltzmannMachine(W, steps, off_act_val=-1)\n",
    "\n",
    "dist_vis = defaultdict(int)\n",
    "dist = defaultdict(int)\n",
    "for state in init_states:\n",
    "    x_rem = bm.remember(state)\n",
    "    dist_vis[tuple(x_rem[:2])] += 1\n",
    "    dist[tuple(x_rem)] += 1\n",
    "print('>>>> ', len(dist))\n",
    "for k in sorted(dist.keys()):\n",
    "    print('{:25} | {:^5} | {:^5}'.format(str(k), dist[k], bm.calc_energy(np.array(k))))"
   ]
  },
  {
   "cell_type": "code",
   "execution_count": 253,
   "metadata": {},
   "outputs": [
    {
     "data": {
      "text/plain": [
       "99"
      ]
     },
     "execution_count": 253,
     "metadata": {},
     "output_type": "execute_result"
    }
   ],
   "source": [
    "max(bm.stopping_step)"
   ]
  },
  {
   "cell_type": "code",
   "execution_count": 42,
   "metadata": {},
   "outputs": [],
   "source": [
    "x, y =  [], []\n",
    "for k in sorted(dist.keys()):\n",
    "    x.append(dist[k]) \n",
    "    y.append(bm.calc_energy(np.array(k)))"
   ]
  },
  {
   "cell_type": "code",
   "execution_count": 242,
   "metadata": {},
   "outputs": [
    {
     "data": {
      "text/plain": [
       "<matplotlib.collections.PathCollection at 0x11d297f9250>"
      ]
     },
     "execution_count": 242,
     "metadata": {},
     "output_type": "execute_result"
    },
    {
     "data": {
      "image/png": "[encoded data removed]",
      "text/plain": [
       "<Figure size 640x480 with 1 Axes>"
      ]
     },
     "metadata": {},
     "output_type": "display_data"
    }
   ],
   "source": [
    "import matplotlib.pyplot as plt\n",
    "\n",
    "plt.scatter(x, y)"
   ]
  },
  {
   "cell_type": "markdown",
   "metadata": {},
   "source": [
    "6 node HN, all one weights"
   ]
  },
  {
   "cell_type": "code",
   "execution_count": 117,
   "metadata": {},
   "outputs": [
    {
     "name": "stdout",
     "output_type": "stream",
     "text": [
      ">>>>  2\n",
      "(-1, -1, -1, -1, -1, -1)\n",
      "(1, 1, 1, 1, 1, 1)\n"
     ]
    }
   ],
   "source": [
    "pop_size = 1000\n",
    "rng1 = np.random.default_rng(12345)\n",
    "\n",
    "W = np.ones((num_nodes, num_nodes))\n",
    "# W = rng1.integers(0, 2, size=(6, 6)).astype(float)\n",
    "# W[W==0] = -1\n",
    "np.fill_diagonal(W, 0)\n",
    "\n",
    "init_states = rng.integers(0, 2, size=(pop_size, num_nodes))\n",
    "\n",
    "init_states[init_states==0] = -1\n",
    "bm = BoltzmannMachine(W, steps, off_act_val=-1)\n",
    "\n",
    "dist_vis = defaultdict(int)\n",
    "dist = defaultdict(int)\n",
    "\n",
    "for state in init_states:\n",
    "    x_rem = bm.remember(state)\n",
    "    dist_vis[tuple(x_rem[:2])] += 1\n",
    "    dist[tuple(x_rem)] += 1\n",
    "\n",
    "\n",
    "print('>>>> ', len(dist))\n",
    "for k in sorted(dist.keys()):\n",
    "    print(k)"
   ]
  },
  {
   "cell_type": "markdown",
   "metadata": {},
   "source": [
    "7 node HN, all one weights"
   ]
  },
  {
   "cell_type": "code",
   "execution_count": 172,
   "metadata": {},
   "outputs": [
    {
     "name": "stdout",
     "output_type": "stream",
     "text": [
      ">>>>  2\n",
      "(-1, -1, -1, -1, -1, -1, -1) 510 -42.0\n",
      "(1, 1, 1, 1, 1, 1, 1) 490 -42.0\n"
     ]
    }
   ],
   "source": [
    "pop_size = 1000\n",
    "rng1 = np.random.default_rng(12345)\n",
    "\n",
    "W = np.ones((7, 7))\n",
    "# W = rng1.integers(0, 2, size=(6, 6)).astype(float)\n",
    "# W[W==0] = -1\n",
    "np.fill_diagonal(W, 0)\n",
    "\n",
    "init_states = rng.integers(0, 2, size=(pop_size, 7))\n",
    "\n",
    "init_states[init_states==0] = -1\n",
    "bm = BoltzmannMachine(W, steps, off_act_val=-1)\n",
    "\n",
    "dist_vis = defaultdict(int)\n",
    "dist = defaultdict(int)\n",
    "for state in init_states:\n",
    "    x_rem = bm.remember(state)\n",
    "    dist_vis[tuple(x_rem[:2])] += 1\n",
    "    dist[tuple(x_rem)] += 1\n",
    "print('>>>> ', len(dist))\n",
    "for k in sorted(dist.keys()):\n",
    "    print(k, dist[k], bm.calc_energy(np.array(k)))"
   ]
  },
  {
   "cell_type": "markdown",
   "metadata": {},
   "source": [
    "6 node HN, 2 friends group weights, random init states"
   ]
  },
  {
   "cell_type": "code",
   "execution_count": 254,
   "metadata": {},
   "outputs": [
    {
     "name": "stdout",
     "output_type": "stream",
     "text": [
      ">>>>  2\n",
      "(-1, -1, -1, 1, 1, 1)     |  481  | -30.0\n",
      "(1, 1, 1, -1, -1, -1)     |  519  | -30.0\n"
     ]
    }
   ],
   "source": [
    "pop_size = 1000\n",
    "rng1 = np.random.default_rng(12345)\n",
    "\n",
    "W = np.ones((num_nodes, num_nodes))\n",
    "W[:3, 3:] = -1\n",
    "W[3:, :3] = -1\n",
    "np.fill_diagonal(W, 0)\n",
    "\n",
    "init_states = rng.integers(0, 2, size=(pop_size, num_nodes))\n",
    "init_states[init_states==0] = -1\n",
    "\n",
    "# init_states[init_states==0] = -1\n",
    "bm = BoltzmannMachine(W, steps, off_act_val=-1)\n",
    "\n",
    "dist_vis = defaultdict(int)\n",
    "dist = defaultdict(int)\n",
    "for state in init_states:\n",
    "    x_rem = bm.remember(state)\n",
    "    dist_vis[tuple(x_rem[:2])] += 1\n",
    "    dist[tuple(x_rem)] += 1\n",
    "print('>>>> ', len(dist))\n",
    "for k in sorted(dist.keys()):\n",
    "    print('{:25} | {:^5} | {:^5}'.format(str(k), dist[k], bm.calc_energy(np.array(k))))"
   ]
  },
  {
   "cell_type": "markdown",
   "metadata": {},
   "source": [
    "6 node HN, 2 friends group weights, same init states"
   ]
  },
  {
   "cell_type": "code",
   "execution_count": 233,
   "metadata": {},
   "outputs": [
    {
     "name": "stdout",
     "output_type": "stream",
     "text": [
      ">>>>  2\n",
      "(-1, -1, -1, 1, 1, 1)     |  495  | -30.0\n",
      "(1, 1, 1, -1, -1, -1)     |  505  | -30.0\n"
     ]
    }
   ],
   "source": [
    "pop_size = 1000\n",
    "rng1 = np.random.default_rng(12345)\n",
    "\n",
    "W = np.ones((num_nodes, num_nodes))\n",
    "W[:3, 3:] = -1\n",
    "W[3:, :3] = -1\n",
    "np.fill_diagonal(W, 0)\n",
    "\n",
    "init_states = np.ones((pop_size, num_nodes), dtype=int)\n",
    "# init_states[:, 3:] = -1\n",
    "\n",
    "# init_states[init_states==0] = -1\n",
    "bm = BoltzmannMachine(W, steps, off_act_val=-1)\n",
    "\n",
    "dist_vis = defaultdict(int)\n",
    "dist = defaultdict(int)\n",
    "for state in init_states:\n",
    "    x_rem = bm.remember(state)\n",
    "    dist_vis[tuple(x_rem[:2])] += 1\n",
    "    dist[tuple(x_rem)] += 1\n",
    "print('>>>> ', len(dist))\n",
    "for k in sorted(dist.keys()):\n",
    "    print('{:25} | {:^5} | {:^5}'.format(str(k), dist[k], bm.calc_energy(np.array(k))))"
   ]
  },
  {
   "cell_type": "code",
   "execution_count": 232,
   "metadata": {},
   "outputs": [
    {
     "data": {
      "text/plain": [
       "array([[-1,  1, -1,  1,  1,  1],\n",
       "       [-1,  1,  1,  1,  1,  1],\n",
       "       [-1,  1, -1,  1,  1,  1],\n",
       "       ...,\n",
       "       [-1,  1,  1,  1,  1,  1],\n",
       "       [-1,  1, -1,  1,  1,  1],\n",
       "       [ 1,  1, -1,  1,  1,  1]], dtype=int64)"
      ]
     },
     "execution_count": 232,
     "metadata": {},
     "output_type": "execute_result"
    }
   ],
   "source": [
    "init_states[:, 3:] = 1\n",
    "init_states"
   ]
  },
  {
   "cell_type": "markdown",
   "metadata": {},
   "source": [
    "6 node HN, 3 minimas: 1vs5 // 3vs3 // 2vs4 friends group\n",
    "\n",
    "RESULT: \n",
    "- it does matter whether updates are sequential or random. \n",
    "- energy not consistent with the probability, deterministic update rule makes HN stuck at local minima."
   ]
  },
  {
   "cell_type": "code",
   "execution_count": 211,
   "metadata": {},
   "outputs": [
    {
     "name": "stdout",
     "output_type": "stream",
     "text": [
      ">>>> no. states found:  6  max stopping step: 2\n",
      "(-1, -1, -1, 1, 1, 1)     | 1375  | -22.0\n",
      "(-1, -1, 1, 1, -1, -1)    | 2127  | -18.0\n",
      "(-1, 1, -1, -1, -1, -1)   | 1404  | -22.0\n",
      "(1, -1, 1, 1, 1, 1)       | 1408  | -22.0\n",
      "(1, 1, -1, -1, 1, 1)      | 2243  | -18.0\n",
      "(1, 1, 1, -1, -1, -1)     | 1443  | -22.0\n"
     ]
    }
   ],
   "source": [
    "pop_size = 10_000\n",
    "# num_nodes = 7\n",
    "\n",
    "W1 = np.ones((num_nodes, num_nodes))\n",
    "W1[1, :] = -1\n",
    "W1[:, 1] = -1\n",
    "\n",
    "W2 = np.ones((num_nodes, num_nodes))\n",
    "W2[:3, 3:] = -1\n",
    "W2[3:, :3] = -1\n",
    "\n",
    "# W3 = np.ones((num_nodes, num_nodes))\n",
    "# W3[:2, 2:] = -1\n",
    "# W3[2:, :2] = -1\n",
    "\n",
    "W4 = np.ones((num_nodes, num_nodes))\n",
    "W4[:, 2:4] = -1\n",
    "W4[2:4] = -1\n",
    "W4[2:4, 2:4] = 1\n",
    "\n",
    "W = W1+W2+W4\n",
    "\n",
    "np.fill_diagonal(W, 0)\n",
    "\n",
    "init_states = rng.integers(0, 2, size=(pop_size, num_nodes))\n",
    "init_states[init_states==0] = -1\n",
    "\n",
    "bm = BoltzmannMachine(W, steps, off_act_val=-1, update_order='random', stochastic_update=False)\n",
    "\n",
    "dist_vis = defaultdict(int)\n",
    "dist = defaultdict(int)\n",
    "for state in init_states:\n",
    "    x_rem = bm.remember(state)\n",
    "    dist_vis[tuple(x_rem[:2])] += 1\n",
    "    dist[tuple(x_rem)] += 1\n",
    "print('>>>> no. states found: ', len(dist), f' max stopping step: {max(bm.stopping_step)}')\n",
    "for k in sorted(dist.keys()):\n",
    "    print('{:25} | {:^5} | {:^5}'.format(str(k), dist[k], bm.calc_energy(np.array(k))))\n",
    "\n",
    "\n",
    "# num_nodes = 6\n",
    "pop_size = 1000"
   ]
  },
  {
   "cell_type": "markdown",
   "metadata": {},
   "source": [
    "6 node HN, 3 minimas: 1vs5 // 3vs3 // 2vs4 friends group, stochastic update\n",
    "\n",
    "RESULT: in this hard case, stochastic update makes prob consistent with the energy"
   ]
  },
  {
   "cell_type": "code",
   "execution_count": 19,
   "metadata": {},
   "outputs": [
    {
     "name": "stdout",
     "output_type": "stream",
     "text": [
      ">>>> no. states found:  17  max stopping step: 26\n",
      "(-1, -1, -1, 1, -1, -1)   |   3   | -6.0 \n",
      "(-1, -1, -1, 1, 1, 1)     | 1728  | -22.0\n",
      "(-1, -1, 1, 1, -1, -1)    | 1309  | -18.0\n",
      "(-1, -1, 1, 1, 1, 1)      |  123  | -18.0\n",
      "(-1, 1, -1, -1, -1, -1)   | 1769  | -22.0\n",
      "(-1, 1, -1, -1, 1, 1)     |   5   | -6.0 \n",
      "(-1, 1, 1, -1, -1, -1)    |  135  | -18.0\n",
      "(-1, 1, 1, 1, -1, -1)     |   1   | -6.0 \n",
      "(1, -1, -1, 1, 1, 1)      |  111  | -18.0\n",
      "(1, -1, 1, 1, -1, -1)     |   6   | -6.0 \n",
      "(1, -1, 1, 1, 1, 1)       | 1653  | -22.0\n",
      "(1, 1, -1, -1, -1, -1)    |  125  | -18.0\n",
      "(1, 1, -1, -1, -1, 1)     |   2   | -6.0 \n",
      "(1, 1, -1, -1, 1, -1)     |   1   | -6.0 \n",
      "(1, 1, -1, -1, 1, 1)      | 1272  | -18.0\n",
      "(1, 1, 1, -1, -1, -1)     | 1752  | -22.0\n",
      "(1, 1, 1, -1, 1, 1)       |   5   | -6.0 \n"
     ]
    }
   ],
   "source": [
    "pop_size = 10_000\n",
    "# num_nodes = 7\n",
    "\n",
    "W1 = np.ones((num_nodes, num_nodes))\n",
    "W1[1, :] = -1\n",
    "W1[:, 1] = -1\n",
    "\n",
    "W2 = np.ones((num_nodes, num_nodes))\n",
    "W2[:3, 3:] = -1\n",
    "W2[3:, :3] = -1\n",
    "\n",
    "# W3 = np.ones((num_nodes, num_nodes))\n",
    "# W3[:2, 2:] = -1\n",
    "# W3[2:, :2] = -1\n",
    "\n",
    "W4 = np.ones((num_nodes, num_nodes))\n",
    "W4[:, 2:4] = -1\n",
    "W4[2:4] = -1\n",
    "W4[2:4, 2:4] = 1\n",
    "\n",
    "W = W1+W2+W4\n",
    "\n",
    "np.fill_diagonal(W, 0)\n",
    "\n",
    "init_states = rng.integers(0, 2, size=(pop_size, num_nodes))\n",
    "init_states[init_states==0] = -1\n",
    "\n",
    "bm = BoltzmannMachine(W, steps, off_act_val=-1, update_order='nto1', stochastic_update=True)\n",
    "\n",
    "dist_vis = defaultdict(int)\n",
    "dist = defaultdict(int)\n",
    "for state in init_states:\n",
    "    x_rem = bm.remember(state)\n",
    "    dist_vis[tuple(x_rem[:2])] += 1\n",
    "    dist[tuple(x_rem)] += 1\n",
    "    \n",
    "print('>>>> no. states found: ', len(dist), f' max stopping step: {max(bm.stopping_step)}')\n",
    "for k in sorted(dist.keys()):\n",
    "    print('{:25} | {:^5} | {:^5}'.format(str(k), dist[k], bm.calc_energy(np.array(k))))\n",
    "\n",
    "\n",
    "# num_nodes = 6\n",
    "pop_size = 1000"
   ]
  },
  {
   "cell_type": "code",
   "execution_count": 20,
   "metadata": {},
   "outputs": [
    {
     "data": {
      "text/plain": [
       "array([[ 0.,  1.,  1., -1.,  1.,  1.],\n",
       "       [ 1.,  0., -1., -3., -1., -1.],\n",
       "       [ 1., -1.,  0.,  1., -1., -1.],\n",
       "       [-1., -3.,  1.,  0.,  1.,  1.],\n",
       "       [ 1., -1., -1.,  1.,  0.,  3.],\n",
       "       [ 1., -1., -1.,  1.,  3.,  0.]])"
      ]
     },
     "execution_count": 20,
     "metadata": {},
     "output_type": "execute_result"
    }
   ],
   "source": [
    "W"
   ]
  },
  {
   "cell_type": "code",
   "execution_count": 29,
   "metadata": {},
   "outputs": [],
   "source": [
    "def test(tup):\n",
    "    vec = np.array(tup)\n",
    "    print(W@vec, bm.calc_energy(vec))"
   ]
  },
  {
   "cell_type": "code",
   "execution_count": 38,
   "metadata": {},
   "outputs": [
    {
     "name": "stdout",
     "output_type": "stream",
     "text": [
      "[ 3.  3. -1. -3.  1. -5.] -2.0\n"
     ]
    }
   ],
   "source": [
    "test((1, 1, 1, -1, -1, 1))"
   ]
  },
  {
   "cell_type": "code",
   "execution_count": 22,
   "metadata": {},
   "outputs": [
    {
     "data": {
      "text/plain": [
       "array([ 1.,  5.,  1., -5., -5., -5.])"
      ]
     },
     "execution_count": 22,
     "metadata": {},
     "output_type": "execute_result"
    }
   ],
   "source": [
    "vec = np.array((1, 1, 1, -1, -1, -1) )\n",
    "W@vec"
   ]
  }
 ],
 "metadata": {
  "kernelspec": {
   "display_name": "idls23",
   "language": "python",
   "name": "python3"
  },
  "language_info": {
   "codemirror_mode": {
    "name": "ipython",
    "version": 3
   },
   "file_extension": ".py",
   "mimetype": "text/x-python",
   "name": "python",
   "nbconvert_exporter": "python",
   "pygments_lexer": "ipython3",
   "version": "3.8.19"
  }
 },
 "nbformat": 4,
 "nbformat_minor": 2
}
